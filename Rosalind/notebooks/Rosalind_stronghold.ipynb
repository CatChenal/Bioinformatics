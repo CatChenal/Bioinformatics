{
 "cells": [
  {
   "cell_type": "code",
   "execution_count": 1,
   "metadata": {
    "collapsed": true,
    "jupyter": {
     "outputs_hidden": true,
     "source_hidden": true
    },
    "tags": []
   },
   "outputs": [
    {
     "name": "stdout",
     "output_type": "stream",
     "text": [
      "Path added to sys.path: C:/Users/catch/Documents/GitHub/Bioinformatics/Rosalind\n",
      "\n",
      "Python ver: 3.7.6 (default, Jan  8 2020, 20:23:39) [MSC v.1916 64 bit (AMD64)]\n",
      "Python env: ds37\n",
      "OS:         win32\n",
      "Current dir: C:\\Users\\catch\\Documents\\GitHub\\Bioinformatics\\Rosalind\\notebooks\n",
      "\n",
      "Last updated: 2021-06-07T16:14:33.305722-04:00\n",
      "\n",
      "Python implementation: CPython\n",
      "Python version       : 3.7.6\n",
      "IPython version      : 7.21.0\n",
      "\n",
      "Compiler    : MSC v.1916 64 bit (AMD64)\n",
      "OS          : Windows\n",
      "Release     : 10\n",
      "Machine     : AMD64\n",
      "Processor   : Intel64 Family 6 Model 142 Stepping 10, GenuineIntel\n",
      "CPU cores   : 8\n",
      "Architecture: 64bit\n",
      "\n",
      "numpy     : 1.19.2\n",
      "matplotlib: 3.3.4\n",
      "scipy     : 1.6.2\n",
      "pandas    : 1.2.3\n",
      "sys       : 3.7.6 (default, Jan  8 2020, 20:23:39) [MSC v.1916 64 bit (AMD64)]\n",
      "\n"
     ]
    }
   ],
   "source": [
    "# To get multiple outputs from one cell:\n",
    "from IPython.core.interactiveshell import InteractiveShell\n",
    "InteractiveShell.ast_node_interactivity = 'all'\n",
    "\n",
    "from IPython import get_ipython\n",
    "from IPython.display import HTML, Markdown, Image\n",
    "# for presentations:\n",
    "#display(HTML(\"<style>.container { width:100% !important; }</style>\"))\n",
    "\n",
    "import sys\n",
    "from pathlib import Path\n",
    "\n",
    "def sys_info():\n",
    "    frmt = '\\nPython ver: {}\\nPython env: {}\\n'\n",
    "    frmt += 'OS:         {}\\nCurrent dir: {}\\n'\n",
    "    print(frmt.format(sys.version, \n",
    "                      Path(sys.prefix).name,\n",
    "                      sys.platform,\n",
    "                      Path.cwd()))\n",
    "\n",
    "\n",
    "def add_to_sys_path(this_path, up=False):\n",
    "    \"\"\"\n",
    "    Prepend this_path to sys.path.\n",
    "    If up=True, path refers to parent folder (1 level up).\n",
    "    \"\"\"\n",
    "    newp = Path(this_path).as_posix() # no str method (?)\n",
    "    if up:\n",
    "        newp = Path(this_path).parent.as_posix()\n",
    "\n",
    "    msg = F'Path already in sys.path: {newp}'\n",
    "    if newp not in sys.path:\n",
    "        sys.path.insert(1, newp)\n",
    "        msg = F'Path added to sys.path: {newp}'\n",
    "    print(msg)\n",
    "\n",
    "# if notebook inside another folder, eg ./notebooks:\n",
    "nb_folder = 'notebooks'\n",
    "add_to_sys_path(Path.cwd(), Path.cwd().name.startswith(nb_folder))\n",
    "\n",
    "\n",
    "# Filtered dir() for method discovery:\n",
    "def filter_dir(mdl, filter_str=None, start_with_str='_', exclude=True):\n",
    "    \"\"\"Filter dir(mdl) for method discovery.\n",
    "       Input:\n",
    "       :param mdl (object): module, optionally with submodule path(s), e.g. mdl.submdl1.submdl2.\n",
    "       :param filter_str (str, None): filter all method names containing that string.\n",
    "       :param start_with_str (str, '_'), exclude (bool, True): start_with_str and exclude work \n",
    "              together to perform search on non-dunder methods (default).\n",
    "    \"\"\"\n",
    "    search_dir = [d for d in dir(mdl) if not d.startswith(start_with_str) == exclude]\n",
    "    if filter_str is None:\n",
    "        return search_dir\n",
    "    else:\n",
    "        filter_str = filter_str.lower()\n",
    "        return [d for d in search_dir if d.lower().find(filter_str) != -1]\n",
    "\n",
    "\n",
    "def get_project_dirs(which=['data', 'images'],\n",
    "                     nb_folder='notebooks',\n",
    "                     use_parent=True):\n",
    "    '''Create folder(s) named in `which` at the parent level.'''\n",
    "    dir_lst = []\n",
    "    if Path.cwd().name.startswith(nb_folder) or use_parent:\n",
    "        dir_fn = Path.cwd().parent.joinpath\n",
    "    else:\n",
    "        dir_fn = Path.cwd().joinpath\n",
    "        \n",
    "    for d in which:\n",
    "        DIR = dir_fn(d)\n",
    "        if not DIR.exists():\n",
    "            Path.mkdir(DIR)\n",
    "        dir_lst.append(DIR)\n",
    "    return dir_lst\n",
    "\n",
    "DIR_DATA, DIR_IMG = get_project_dirs()\n",
    "    \n",
    "import numpy as np\n",
    "import scipy as sp\n",
    "from scipy import stats as sps\n",
    "import pandas as pd\n",
    "#pd.set_option(\"display.max_colwidth\", 200)\n",
    "\n",
    "import matplotlib as mpl\n",
    "from matplotlib import pyplot as plt\n",
    "plt.ion()\n",
    "plt.style.use('seaborn-muted')\n",
    "\n",
    "from pprint import pprint as pp\n",
    "\n",
    "\n",
    "def add_div(div_class='info', div_start='Tip:', \n",
    "            div_text='Some tip here', output_string=True):\n",
    "    \"\"\"\n",
    "    Behaviour with default `output_string=True`:\n",
    "    The cell is overwritten with the output, but the cell mode is still 'code',\n",
    "    not 'markdown'.\n",
    "    Workaround: After running the function, click on the new cell, press ESC, \n",
    "                type 'm', then run the new cell.\n",
    "    If `output_string=False`, the output is displayed in an new cell with the \n",
    "    code cell visible.\n",
    "    ```\n",
    "    [x]\n",
    "    add_div('alert-warning', 'Tip: ', 'some tip here', output_string=True)\n",
    "    [x]\n",
    "    <div class=\"alert alert-warning\"><b>Tip: </b>some tip here</div>\n",
    "    ```\n",
    "    \"\"\"\n",
    "    accepted = ['info', 'warning', 'danger']\n",
    "    div_class = div_class.lower()\n",
    "    if div_class not in accepted:\n",
    "        msg = f'<div class=\"alert\"><b>Wrong class:&nbsp;</b> `div_start` not in: {accepted}.</div>'\n",
    "        return Markdown(msg)\n",
    "    \n",
    "    div = f\"\"\"<div class=\"alert alert-{div_class}\"><b>{div_start}&nbsp;&nbsp;</b>{div_text}</div>\"\"\"\n",
    "    if output_string:\n",
    "        return get_ipython().set_next_input(div, 'markdown')\n",
    "    else:\n",
    "        return Markdown(div)\n",
    "\n",
    "    \n",
    "def new_section(title='New section'):\n",
    "    style = \"text-align:center;background:#c2d3ef;padding:16px;color:#ffffff;font-size:2em;width:98%\"\n",
    "    div = f'<div style=\"{style}\">{title}</div>'\n",
    "    #return HTML('<div style=\"{}\">{}</div>'.format(style, title))\n",
    "    return get_ipython().set_next_input(div, 'markdown')\n",
    "\n",
    "\n",
    "def show_versions():\n",
    "    txt = '<pre><br>'\n",
    "    txt += F'Python:\\t\\t{sys.version}<br>'\n",
    "    txt += F'Python env:\\t{Path(sys.prefix).name}<br>'\n",
    "    txt += F'Numpy:\\t\\t{np.__version__}<br>'\n",
    "    txt += F'Scipy:\\t\\t{sp.__version__}<br>'\n",
    "    txt += F'Pandas:\\t\\t{pd.__version__}<br>'\n",
    "    txt += F'Matplotlib:\\t{mpl.__version__}<br>'\n",
    "    txt += F'Currrent dir: {Path.cwd()}'\n",
    "    txt += '</pre>'\n",
    "    div = f\"\"\"<div class=\"alert alert-info\"><b>Versions:</b><br>{txt}</div>\"\"\"\n",
    "    return HTML(div)\n",
    "\n",
    "\n",
    "# autoreload extension\n",
    "if 'autoreload' not in get_ipython().extension_manager.loaded:\n",
    "    get_ipython().run_line_magic('load_ext', 'autoreload')\n",
    "\n",
    "%autoreload 2\n",
    "\n",
    "#..................\n",
    "sys_info()\n",
    "\n",
    "no_wmark = False\n",
    "try:\n",
    "    %load_ext watermark\n",
    "    %watermark\n",
    "except ModuleNotFoundError:\n",
    "    no_wmark = True\n",
    "\n",
    "if no_wmark:\n",
    "    show_versions()\n",
    "else:\n",
    "    %watermark -iv"
   ]
  },
  {
   "cell_type": "markdown",
   "metadata": {},
   "source": [
    "# Rosalind project exercises\n",
    "---"
   ]
  },
  {
   "cell_type": "markdown",
   "metadata": {},
   "source": [
    "# Rubrics in stronghold.py:"
   ]
  },
  {
   "cell_type": "markdown",
   "metadata": {},
   "source": [
    "---\n",
    "# DONE:\n",
    " - [x] DNA: Counting DNA Nucleotides  \n",
    " - [x] RNA: Transcribing DNA into RNA \n",
    " - [x] REVC: Complementing a Strand of DNA  \n",
    " - [x] FIB: Rabbits and Recurrence Relations: Wascally Wabbits    \n",
    " - [x] GC: Computing GC Content \n",
    " - [x] HAMM: Counting Point Mutations  \n",
    " - [x] IPRB: Mendel's First Law  \n",
    " - [x] PROT: Translating RNA into Protein \n",
    " - [x] SUBS: Finding a motif in DNA\n",
    " - [x] CONS: Consensus and Profile \n",
    " - [x] FIBD: Mortal Fibonacci Rabiits\n",
    " - [x] GRPH: A Brief Introduction to Graph Theory \n",
    " - [ ] IEV: Calculating Expected Offspring\n",
    "---"
   ]
  },
  {
   "cell_type": "markdown",
   "metadata": {},
   "source": [
    "## TO DO:"
   ]
  },
  {
   "cell_type": "markdown",
   "metadata": {
    "jupyter": {
     "source_hidden": true
    },
    "tags": []
   },
   "source": [
    "---\n",
    "# TO DO:\n",
    " \n",
    " # Rubrics to implement:  \n",
    " - [] LCSM:  \n",
    " - [] LIA:  \n",
    " - [] MPRT:  \n",
    " - [] MRNA:  \n",
    " - [] ORF:  \n",
    " - [] PERM:  \n",
    " - [] PRTM:  \n",
    " - [] REVP:  \n",
    " - [] SPLC:  \n",
    " - [] LEXF:  \n",
    " - [] LGIS:  \n",
    " - [] LONG:  \n",
    " - [] PMCH:  \n",
    " - [] PPER:  \n",
    " - [] PROB:  \n",
    " - [] SIGN:  \n",
    " - [] SSEQ:  \n",
    " - [] TRAN:  \n",
    " - [] TREE:  \n",
    " - [] CAT:  \n",
    " - [] CORR:  \n",
    " - [] INOD:  \n",
    " - [] KMER:  \n",
    " - [] KMP:  \n",
    " - [] LCSQ:  \n",
    " - [] LEXV:  \n",
    " - [] MMCH:  \n",
    " - [] PDST:  \n",
    " - [] REAR:  \n",
    " - [] RSTR:  \n",
    " - [] SSET:  \n",
    " - [] ASPC:  \n",
    " - [] EDIT:  \n",
    " - [] EVAL:  \n",
    " - [] MOTZ:  \n",
    " - [] NWCK:  \n",
    " - [] SCSP:  \n",
    " - [] SETO:  \n",
    " - [] SORT:  \n",
    " - [] SPEC:  \n",
    " - [] TRIE:  \n",
    " - [] CONV:  \n",
    " - [] CTBL:  \n",
    " - [] DBRU:  \n",
    " - [] EDTA:  \n",
    " - [] FULL:  \n",
    " - [] INDC:  \n",
    " - [] ITWV:  \n",
    " - [] LREP:  \n",
    " - [] NKEW:  \n",
    " - [] RNAS:  \n",
    " - [] AFRQ:  \n",
    " - [] CSTR:  \n",
    " - [] CTEA:  \n",
    " - [] CUNR:  \n",
    " - [] GLOB:  \n",
    " - [] PCOV:  \n",
    " - [] PRSM:  \n",
    " - [] QRT:  \n",
    " - [] SGRA:  \n",
    " - [] SUFF:  \n",
    " - [] CHBP:  \n",
    " - [] CNTQ:  \n",
    " - [] EUBT:  \n",
    " - [] GASM:  \n",
    " - [] GCON:  \n",
    " - [] LING:  \n",
    " - [] LOCA:  \n",
    " - [] MEND:  \n",
    " - [] MGAP:  \n",
    " - [] MREP:  \n",
    " - [] MULT:  \n",
    " - [] PDPL:  \n",
    " - [] ROOT:  \n",
    " - [] SEXL:  \n",
    " - [] SPTD:  \n",
    " - [] WFMD:  \n",
    " - [] ALPH:  \n",
    " - [] ASMQ:  \n",
    " - [] CSET:  \n",
    " - [] EBIN:  \n",
    " - [] FOUN:  \n",
    " - [] GAFF:  \n",
    " - [] GREP:  \n",
    " - [] OAP:  \n",
    " - [] QRTD:  \n",
    " - [] SIMS:  \n",
    " - [] SMGB:  \n",
    " - [] KSIM:  \n",
    " - [] LAFF:  \n",
    " - [] OSYM:  \n",
    " - [] RSUB: \n",
    "\n",
    "---"
   ]
  },
  {
   "cell_type": "markdown",
   "metadata": {},
   "source": [
    "---\n",
    "---"
   ]
  },
  {
   "cell_type": "code",
   "execution_count": 2,
   "metadata": {
    "tags": []
   },
   "outputs": [
    {
     "data": {
      "text/plain": [
       "WindowsPath('C:/Users/catch/Documents/GitHub/Bioinformatics/Rosalind/data')"
      ]
     },
     "execution_count": 2,
     "metadata": {},
     "output_type": "execute_result"
    }
   ],
   "source": [
    "# Reset DIR_DATA to local data folder:\n",
    "DIR_DATA, DIR_IMG = get_project_dirs(use_parent=False)\n",
    "DIR_DATA"
   ]
  },
  {
   "cell_type": "code",
   "execution_count": 54,
   "metadata": {},
   "outputs": [],
   "source": [
    "from collections import defaultdict, Counter\n",
    "from itertools import product\n",
    "\n",
    "from rosacode import stronghold as sh"
   ]
  },
  {
   "cell_type": "markdown",
   "metadata": {},
   "source": [
    "---\n",
    "---\n",
    "# DNA :: Counting DNA Nucleotides\n",
    "* Problem: http://rosalind.info/problems/dna/\n",
    "\n",
    "A string is simply an ordered collection of symbols selected from some \n",
    "alphabet and formed into a word; the length of a string is the number \n",
    "of symbols that it contains.\n",
    "\n",
    "An example of a length 21 DNA string (whose alphabet contains the \n",
    "symbols 'A', 'C', 'G', and 'T') is \"ATGCTTCAGAAAGGTCTTACG.\"\n",
    "\n",
    "* Given: \n",
    "A DNA string s of length at most 1000 nt.\n",
    "\n",
    "* Return: \n",
    "Four integers (separated by spaces) counting the respective \n",
    "number of times that the symbols 'A', 'C', 'G', and 'T' occur in s.\n",
    "\n",
    "* Sample Dataset\n",
    "```\n",
    "AGCTTTTCATTCTGACTGCAACGGGCAATATGTCTCTGTGTGGATTAAAAAAAGAGTGTCTGATAGCAGC\n",
    "```\n",
    "* Sample Output\n",
    "```\n",
    "20 12 17 21\n",
    "```"
   ]
  },
  {
   "cell_type": "code",
   "execution_count": 37,
   "metadata": {},
   "outputs": [],
   "source": [
    "# %load -n sh.words_freq_from_file\n",
    "def words_freq_from_file(fname=None, char_max=1000):\n",
    "    with open(fname) as fh:\n",
    "        line = fh.readline()[:char_max]\n",
    "            \n",
    "    cnt = Counter(line)\n",
    "    print(cnt['A'], cnt['C'], cnt['G'], cnt['T'])\n",
    "    return"
   ]
  },
  {
   "cell_type": "code",
   "execution_count": 25,
   "metadata": {
    "collapsed": true,
    "jupyter": {
     "outputs_hidden": true,
     "source_hidden": true
    },
    "tags": []
   },
   "outputs": [
    {
     "name": "stdout",
     "output_type": "stream",
     "text": [
      "234 243 251 233\n"
     ]
    }
   ],
   "source": [
    "dna_file = DIR_DATA.joinpath('rosalind_dna.txt')\n",
    "sh.words_freq_from_file(dna_file)"
   ]
  },
  {
   "cell_type": "markdown",
   "metadata": {},
   "source": [
    "---\n",
    "---\n",
    "# RNA :: Transcribing DNA into RNA\n",
    "\n",
    "* Problem: http://rosalind.info/problems/rna/\n",
    "\n",
    "An RNA string is a string formed from the alphabet containing 'A', 'C', 'G', and 'U'.   \n",
    "Given a DNA string t corresponding to a coding strand, its transcribed RNA string u is formed by replacing all occurrences of 'T' in t with 'U' in u.\n",
    "\n",
    "* Given: A DNA string t having length at most 1000 nt.\n",
    "* Return: The transcribed RNA string of t.\n",
    "\n",
    "* Sample Dataset:\n",
    "```\n",
    "GATGGAACTTGACTACGTAAATT\n",
    "```\n",
    "* Sample Output: \n",
    "```\n",
    "GAUGGAACUUGACUACGUAAAUU\n",
    "```"
   ]
  },
  {
   "cell_type": "code",
   "execution_count": 32,
   "metadata": {
    "jupyter": {
     "source_hidden": true
    },
    "tags": []
   },
   "outputs": [],
   "source": [
    "# %load -n sh.rna_from_dna_file\n",
    "def rna_from_dna_file(fname=None, char_max=1000):\n",
    "    with open(fname) as fh:\n",
    "        t = fh.readline().strip()[:char_max]\n",
    "    return t.replace('T', 'U')\n"
   ]
  },
  {
   "cell_type": "code",
   "execution_count": 37,
   "metadata": {
    "collapsed": true,
    "jupyter": {
     "outputs_hidden": true,
     "source_hidden": true
    },
    "tags": []
   },
   "outputs": [
    {
     "data": {
      "text/plain": [
       "'AAUGAAGUGGUAUCUUGGAACGGGGUGUGGGGGAGGAUCGCGAAGGAUAAUCCAAUUUUAUGCAGACCGGGGAGGCACCCUUCCCUGUGCGAAAACUCUGGCGAUUGGGUUCGUGGAAACACUUGAACACAAGACAAACAUAUGGAGGGCGAAGGAUUUAUAGCAGGUCCCAAAUGAAUACGUCCUAUAAAGGAGUGGGCGAAAUAAAUGUACUUUUCUAUUAUAGUCACCGCACAGGUGAGUGUAUAAUUACAUCUACUUGUGCAGUGCUAAGUCGUGGGUACGUUAGCACACUAACACAAGCAAAAUACGUCACUUCACCAGUCUCCGGAAUCGCUCGAUGUGAUUACAGUGCGCUAGCGUGUAACUCAGGAUAACUUGUAAAAAGGCUUUCUGGCCUUCGCCCAUCAGGAGUUAGGUAGUGGAGGCAGAAGACACUCCCGCGUACAGAAGCGUCCGCUCCUGGACCGGGACUGGGAACAACAGCCGCAGGGGUGGCUAUCAAAAGUGUCGAACGGUUCCUGGGAUAAUUUUGUGUCGGACCGUUCGGCCAUCGUCAGGGUAUUUCUCGUUGUAUCCUAUGUCUUUUCAUCACGUUGGGCUUUACAUUCACGGAUGAGGGGGCAAUCGCUCAGUCAGUCGCACGAGAGUUUGAAUGAGCUAAGGCCACGUAGAGCACGGAAUACACACCGGAUUUCCUUACCUAUGGAAAAGAUUCUUGCGAGGGAAAUCAUCACAAACGUGAGAUCGCCUUGCCCCAGAGCGAAAUAAUGGUGACUCCCGAGCCAUUCAUUGACUAUUUGAGUGCGCUGCGUCCCGCCUAUAAAAACACAUCACUUGUACUUGACGUCUAGGGCAGAAUCCAGGGGUGGGGCUGCGAAUUUUAUAGCGGUCUGCACACAACUUAAUCAGGUCAUACUUGUUUCCUGUGCGGCGUUCAGGAAGUCUCUGGUUGGAGCUG'"
      ]
     },
     "execution_count": 37,
     "metadata": {},
     "output_type": "execute_result"
    }
   ],
   "source": [
    "rna_file = DIR_DATA.joinpath('rosalind_rna.txt')\n",
    "\n",
    "sh.rna_from_dna_file(rna_file)"
   ]
  },
  {
   "cell_type": "markdown",
   "metadata": {},
   "source": [
    "---\n",
    "---\n",
    "# REVC:: Complementing a Strand of DNA \n",
    "\n",
    "* Problem: http://rosalind.info/problems/revc/   \n",
    "\n",
    "In DNA strings, symbols 'A' and 'T' are complements of each other,  as are 'C' and 'G'.   \n",
    "The reverse complement of a DNA string s is the string sc formed by reversing the symbols of s, then taking the complement of each \n",
    "symbol (e.g., the reverse complement of \"GTCA\" is \"TGAC\").\n",
    "\n",
    "* Given: A DNA string s of length at most 1000 bp.\n",
    "* Return: The reverse complement sc of s.\n",
    "\n",
    "* Sample Dataset  \n",
    "```\n",
    "AAAACCCGGT\n",
    "```\n",
    "* Sample Output\n",
    "```\n",
    "ACCGGGTTTT\n",
    "```"
   ]
  },
  {
   "cell_type": "raw",
   "metadata": {
    "jupyter": {
     "source_hidden": true
    },
    "tags": []
   },
   "source": [
    "import os\n",
    "if (os.sep not in fname):\n",
    "        # string was passed:\n",
    "        dna = fname[:char_max]\n",
    "    else:"
   ]
  },
  {
   "cell_type": "code",
   "execution_count": 43,
   "metadata": {
    "jupyter": {
     "source_hidden": true
    },
    "tags": []
   },
   "outputs": [],
   "source": [
    "# %load -n sh.rev_complement_from_dna_file\n",
    "def rev_complement_from_dna_file(fname=None, char_max=1000):\n",
    "    with open(fname) as fh:\n",
    "        dna = fh.readline().strip()[:char_max]\n",
    "    d = {'A':'T', 'T':'A', 'C':'G', 'G':'C'}\n",
    "    print(''.join(d[nt] for nt in dna[::-1]))\n",
    "    return"
   ]
  },
  {
   "cell_type": "code",
   "execution_count": 44,
   "metadata": {
    "collapsed": true,
    "jupyter": {
     "outputs_hidden": true
    },
    "tags": []
   },
   "outputs": [
    {
     "name": "stdout",
     "output_type": "stream",
     "text": [
      "CAGCTCCAACCAGAGACTTCCTGAACGCCGCACAGGAAACAAGTATGACCTGATTAAGTTGTGTGCAGACCGCTATAAAATTCGCAGCCCCACCCCTGGATTCTGCCCTAGACGTCAAGTACAAGTGATGTGTTTTTATAGGCGGGACGCAGCGCACTCAAATAGTCAATGAATGGCTCGGGAGTCACCATTATTTCGCTCTGGGGCAAGGCGATCTCACGTTTGTGATGATTTCCCTCGCAAGAATCTTTTCCATAGGTAAGGAAATCCGGTGTGTATTCCGTGCTCTACGTGGCCTTAGCTCATTCAAACTCTCGTGCGACTGACTGAGCGATTGCCCCCTCATCCGTGAATGTAAAGCCCAACGTGATGAAAAGACATAGGATACAACGAGAAATACCCTGACGATGGCCGAACGGTCCGACACAAAATTATCCCAGGAACCGTTCGACACTTTTGATAGCCACCCCTGCGGCTGTTGTTCCCAGTCCCGGTCCAGGAGCGGACGCTTCTGTACGCGGGAGTGTCTTCTGCCTCCACTACCTAACTCCTGATGGGCGAAGGCCAGAAAGCCTTTTTACAAGTTATCCTGAGTTACACGCTAGCGCACTGTAATCACATCGAGCGATTCCGGAGACTGGTGAAGTGACGTATTTTGCTTGTGTTAGTGTGCTAACGTACCCACGACTTAGCACTGCACAAGTAGATGTAATTATACACTCACCTGTGCGGTGACTATAATAGAAAAGTACATTTATTTCGCCCACTCCTTTATAGGACGTATTCATTTGGGACCTGCTATAAATCCTTCGCCCTCCATATGTTTGTCTTGTGTTCAAGTGTTTCCACGAACCCAATCGCCAGAGTTTTCGCACAGGGAAGGGTGCCTCCCCGGTCTGCATAAAATTGGATTATCCTTCGCGATCCTCCCCCACACCCCGTTCCAAGATACCACTTCATT\n"
     ]
    }
   ],
   "source": [
    "revc_file = DIR_DATA.joinpath('rosalind_revc.txt')\n",
    "\n",
    "sh.rev_complement_from_dna_file(rna_file)"
   ]
  },
  {
   "cell_type": "markdown",
   "metadata": {},
   "source": [
    "---\n",
    "---\n",
    "# FIB :: Rabbits and Recurrence Relations: Wascally Wabbits\n",
    "\n",
    "* Problem: http://rosalind.info/problems/fib/   \n",
    "\n",
    "A recurrence relation is a way of defining the terms of a sequence with respect \n",
    "to the values of previous terms. In the case of Fibonacci's rabbits from the \n",
    "introduction, any given month will contain the rabbits that were alive the \n",
    "previous month, plus any new offspring.   \n",
    "A key observation is that the number of offspring in any month is equal to \n",
    "the number of rabbits that were alive two months prior. As a result, if $F_n$ \n",
    "represents the number of rabbit pairs alive after the n-th month, then we obtain \n",
    "the Fibonacci sequence having terms $F_n$ that are defined by the recurrence relation:  \n",
    "$F_n$ = $F_{n−1}$ + $F_{n−2}$ (with F1 = F2 = 1 to initiate the sequence).   \n",
    "\n",
    "When finding the n-th term of a sequence defined by a recurrence relation, we \n",
    "can simply use the recurrence relation to generate terms for progressively larger values of n.   \n",
    "This problem introduces us to the computational technique of dynamic programming, which successively builds up solutions by using the \n",
    "answers to smaller cases.\n",
    "\n",
    "* Given: Positive integers n ≤ 40 and k ≤ 5. n: months; k: litter size.\n",
    "* Return:   \n",
    "The total number of rabbit pairs that will be present after n months, if we begin with 1 pair and in each generation, every pair of reproduction-age \n",
    " rabbits produces a litter of k rabbit pairs (instead of only 1 pair).\n",
    "\n",
    "* Sample Dataset\n",
    "```\n",
    "5 3\n",
    "```\n",
    "* Sample Output\n",
    "```\n",
    "19\n",
    "```\n",
    "```\n",
    "mon pairs:\n",
    "1 F1 = 1\n",
    "2 F2 = 1\n",
    "3 F1*k=3 + F2 = 4 = F3\n",
    "4 F2*k=3 + F3 = 3 + 4 = 7 = F4\n",
    "5 F3*k=3 + F4 = 4*3 + 7 = 12 + 7 = 19\n",
    "```"
   ]
  },
  {
   "cell_type": "code",
   "execution_count": 48,
   "metadata": {
    "tags": []
   },
   "outputs": [],
   "source": [
    "# %load -n sh.fib_pairs\n",
    "def fib_pairs(months, p):\n",
    "    \"\"\"\n",
    "    Return the total number of rabbit pairs that will be present after n months, \n",
    "    if we begin with 1 pair and in each generation, every pair of reproduction-age \n",
    "    rabbits produces a litter of p rabbit pairs (instead of only 1 pair).\n",
    "    \"\"\"\n",
    "    a = 1\n",
    "    b = 1\n",
    "    if (months < 0) | (months > 40) | (p > 5):\n",
    "        msg = \"At least one parameter is invalid:\\nmonths, \"\n",
    "        msg += \"positive int ≤ 40;  p, # pairs in litter ≤ 5.\"\n",
    "        return msg\n",
    "\n",
    "    if months == 1: \n",
    "        return a \n",
    "    elif months == 2: \n",
    "        return b \n",
    "    else:\n",
    "        for i in range(2, months): #pylint: disable=unused-variable\n",
    "            a, b = a + b * p, a\n",
    "\n",
    "        return a\n"
   ]
  },
  {
   "cell_type": "code",
   "execution_count": 49,
   "metadata": {
    "collapsed": true,
    "jupyter": {
     "outputs_hidden": true
    },
    "tags": []
   },
   "outputs": [
    {
     "data": {
      "text/plain": [
       "19"
      ]
     },
     "execution_count": 49,
     "metadata": {},
     "output_type": "execute_result"
    }
   ],
   "source": [
    "sh.fib_pairs(5, 3)"
   ]
  },
  {
   "cell_type": "markdown",
   "metadata": {},
   "source": [
    "---\n",
    "---\n",
    "# GC :: Computing GC Content\n",
    "\n",
    "* Problem: http://rosalind.info/problems/gc/\n",
    "        \n",
    "The GC-content of a DNA string is given by the percentage of symbols\n",
    " in the string that are 'C' or 'G'. For example, the GC-content of \n",
    " \"AGCTATAG\" is 37.5%. Note that the reverse complement of any DNA \n",
    " string has the same GC-content.\n",
    "DNA strings must be labeled when they are consolidated into a database. \n",
    "A commonly used method of string labeling is called FASTA format. In \n",
    "this format, the string is introduced by a line that begins with '>', \n",
    "followed by some labeling information. Subsequent lines contain the \n",
    "string itself; the first line to begin with '>' indicates the label \n",
    "of the next string.\n",
    "\n",
    "In Rosalind's implementation, a string in FASTA format will be labeled \n",
    "by the ID \"Rosalind_xxxx\", where \"xxxx\" denotes a four-digit code between \n",
    "0000 and 9999.\n",
    "\n",
    "* Given: At most 10 DNA strings in FASTA format (of length at most 1 kbp each).\n",
    "* Return: The ID of the string having the highest GC-content, followed by the \n",
    "GC-content of that string. Rosalind allows for a default error of 0.001 in \n",
    "all decimal answers unless otherwise stated; please see the note on absolute \n",
    "error below.\n",
    "\n",
    "* Sample Dataset\n",
    "```\n",
    ">Rosalind_6404\n",
    "CCTGCGGAAGATCGGCACTAGAATAGCCAGAACCGTTTCTCTGAGGCTTCCGGCCTTCCC\n",
    "TCCCACTAATAATTCTGAGG\n",
    ">Rosalind_5959\n",
    "CCATCGGTAGCGCATCCTTAGTCCAATTAAGTCCCTATCCAGGCGCTCCGCCGAAGGTCT\n",
    "ATATCCATTTGTCAGCAGACACGC\n",
    ">Rosalind_0808\n",
    "CCACCCTCGTGGTATGGCTAGGCATTCAGGAACCGGAGAACGCTTCAGACCAGCCCGGAC\n",
    "TGGGAACCTGCGGGCAGTAGGTGGAAT\n",
    "```\n",
    "\n",
    "* Sample Output<br>\n",
    "\n",
    "```\n",
    "Rosalind_0808\n",
    "60.919540\n",
    "```"
   ]
  },
  {
   "cell_type": "code",
   "execution_count": 55,
   "metadata": {
    "tags": []
   },
   "outputs": [],
   "source": [
    "# %load -n sh.highest_gc_from_fasta_files\n",
    "def highest_gc_from_fasta_files(multifasta=os.path.join(os.curdir, 'rosalind_gc.txt')):\n",
    "    gc = 0\n",
    "    with open(multifasta) as fh:\n",
    "        for seqs in SimpleFastaParser(fh):\n",
    "            newgc = gc_content(seqs[1])\n",
    "            if newgc > gc:\n",
    "                gc = newgc\n",
    "                gcid = seqs[0]\n",
    "        \n",
    "    print(F'{gcid}\\n{gc}')\n",
    "    return\n"
   ]
  },
  {
   "cell_type": "code",
   "execution_count": 43,
   "metadata": {},
   "outputs": [
    {
     "name": "stdout",
     "output_type": "stream",
     "text": [
      "Rosalind_3583\n",
      "51.011236\n"
     ]
    }
   ],
   "source": [
    "gc_file =  DIR_DATA.joinpath('rosalind_gc.txt')\n",
    "sh.highest_gc_from_fasta_files(gc_file)"
   ]
  },
  {
   "cell_type": "markdown",
   "metadata": {},
   "source": [
    "---\n",
    "---\n",
    "# HAMM :: Counting Point Mutations\n",
    "\n",
    "* Problem: http://rosalind.info/problems/hamm/  \n",
    "\n",
    "## Evolution as a Sequence of Mistakes\n",
    "\n",
    "A mutation is simply a mistake that occurs during the creation or copying \n",
    "of a nucleic acid, in particular DNA. Because nucleic acids are vital to \n",
    "cellular functions, mutations tend to cause a ripple effect throughout the \n",
    "cell. Although mutations are technically mistakes, a very rare mutation may \n",
    "equip the cell with a beneficial attribute. In fact, the macro effects of \n",
    "evolution are attributable by the accumulated result of beneficial microscopic \n",
    "mutations over many generations.\n",
    "\n",
    "The simplest and most common type of nucleic acid mutation is a point mutation, \n",
    "which replaces one base with another at a single nucleotide. In the case of DNA, \n",
    "a point mutation must change the complementary base accordingly; see Figure 1.\n",
    "\n",
    "Two DNA strands taken from different organism or species genomes are homologous \n",
    "if they share a recent ancestor; thus, counting the number of bases at which \n",
    "homologous strands differ provides us with the minimum number of point mutations \n",
    "that could have occurred on the evolutionary path between the two strands.\n",
    "\n",
    "We are interested in minimizing the number of (point) mutations separating two \n",
    "species because of the biological principle of parsimony, which demands that \n",
    "evolutionary histories should be as simply explained as possible.\n",
    "\n",
    "\n",
    "* Problem:\n",
    "Given two strings s and t of equal length, the __Hamming distance__ between \n",
    "s and t, denoted dH(s,t), is the number of corresponding symbols that \n",
    "differ in s and t. See Figure 2.\n",
    "\n",
    "* Given: Two DNA strings s and t of equal length (not exceeding 1 kbp).\n",
    "* Return: The Hamming distance $d_H$(s,t).\n",
    "\n",
    "* Sample Dataset\n",
    "```\n",
    "GAGCCTACTAACGGGAT\n",
    "CATCGTAATGACGGCCT\n",
    "```\n",
    "* Sample Output\n",
    "```\n",
    "7\n",
    "```"
   ]
  },
  {
   "cell_type": "code",
   "execution_count": 38,
   "metadata": {},
   "outputs": [],
   "source": [
    "# %load -n sh.dH\n",
    "def dH(s, t):\n",
    "    assert(len(s)==len(t))\n",
    "    return sum([a!=b for a,b in zip(s, t)])"
   ]
  },
  {
   "cell_type": "code",
   "execution_count": 39,
   "metadata": {},
   "outputs": [
    {
     "data": {
      "text/plain": [
       "7"
      ]
     },
     "execution_count": 39,
     "metadata": {},
     "output_type": "execute_result"
    }
   ],
   "source": [
    "sh.dH('GAGCCTACTAACGGGAT', 'CATCGTAATGACGGCCT')"
   ]
  },
  {
   "cell_type": "markdown",
   "metadata": {},
   "source": [
    "---\n",
    "---\n",
    "# IPRB :: Mendel's First Law\n",
    "## Introduction to Mendelian Inheritance\n",
    "\n",
    "* Problem: http://rosalind.info/problems/iprb/  \n",
    "\n",
    "<figure style=\"display:table; text-align:center; width:800px; height:200px;\">\n",
    "  <img src=\"./images/Punnett_Square.png\" \n",
    "       alt=\"x\"\n",
    "       title=\"Figure 1\"\n",
    "   >\n",
    "  <figcaption style=\"color:teal; font-family: sans-serif; display: table-caption; caption-side: bottom;\">\n",
    "       Figure 1. A Punnett square representing the possible outcomes of crossing a heterozygous organism (Yy) with a homozygous \n",
    "                 recessive organism (yy); here, the dominant allele Y corresponds to yellow pea pods, and the recessive allele\n",
    "                 y corresponds to green pea pods.\n",
    "  </figcaption>\n",
    "        <p>\n",
    "</figure>\n",
    "\n",
    "\n",
    "Modern laws of inheritance were first described by Gregor Mendel \n",
    "(an Augustinian Friar) in 1865. The contemporary hereditary model, \n",
    "called blending inheritance, stated that an organism must exhibit \n",
    "a blend of its parent's traits. This rule is obviously violated both \n",
    "empirically (consider the huge number of people who are taller than \n",
    "both their parents) and statistically (over time, blended traits would \n",
    "simply blend into the average, severely limiting variation).\n",
    "\n",
    "Mendel, working with thousands of pea plants, believed that rather \n",
    "than viewing traits as continuous processes, they should instead be \n",
    "divided into discrete building blocks called factors. Furthermore, \n",
    "he proposed that every factor possesses distinct forms, called alleles.\n",
    "\n",
    "In what has come to be known as his first law (also known as the law \n",
    "of segregation), Mendel stated that every organism possesses a pair \n",
    "of alleles for a given factor. If an individual's two alleles for a \n",
    "given factor are the same, then it is homozygous for the factor; if \n",
    "the alleles differ, then the individual is heterozygous. The first \n",
    "law concludes that for any factor, an organism randomly passes one \n",
    "of its two alleles to each offspring, so that an individual receives \n",
    "one allele from each parent.\n",
    "\n",
    "Mendel also believed that any factor corresponds to only two possible \n",
    "alleles, the dominant and recessive alleles. An organism only needs to \n",
    "possess one copy of the dominant allele to display the trait represented \n",
    "by the dominant allele. In other words, the only way that an organism can \n",
    "display a trait encoded by a recessive allele is if the individual is \n",
    "homozygous recessive for that factor.\n",
    "\n",
    "We may encode the dominant allele of a factor by a capital letter (e.g., A) \n",
    "and the recessive allele by a lower case letter (e.g., a). Because a \n",
    "heterozygous organism can possess a recessive allele without displaying \n",
    "the recessive form of the trait, we henceforth define an organism's \n",
    "genotype to be its precise genetic makeup and its phenotype as the \n",
    "physical manifestation of its underlying traits.\n",
    "\n",
    "The different possibilities describing an individual's inheritance of \n",
    "two alleles from its parents can be represented by a Punnett square; \n",
    "see Figure 1 for an example.\n",
    "\n",
    "![figure2](probs_tree.png)  \n",
    "Figure 2. The probability of any outcome (leaf) in a probability tree \n",
    "diagram is given by the product of probabilities from the start of the \n",
    "tree to the outcome. For example, the probability that X is blue and Y \n",
    "is blue is equal to (2/5)(1/4), or 1/10.  \n",
    "\n",
    "\n",
    "* Problem:  \n",
    "Probability is the mathematical study of randomly occurring phenomena. \n",
    "We will model such a phenomenon with a random variable, which is simply \n",
    "a variable that can take a number of different distinct outcomes depending \n",
    "on the result of an underlying random process.\n",
    "\n",
    "For example, say that we have a bag containing 3 red balls and 2 blue balls. \n",
    "If we let X represent the random variable corresponding to the color of a \n",
    "drawn ball, then the probability of each of the two outcomes is given by \n",
    "Pr(X=red)=3/5 and Pr(X=blue)=2/5.\n",
    "\n",
    "Random variables can be combined to yield new random variables. Returning \n",
    "to the ball example, let Y model the color of a second ball drawn from the \n",
    "bag (without replacing the first ball). The probability of Y being red depends \n",
    "on whether the first ball was red or blue. To represent all outcomes of X and \n",
    "Y, we therefore use a probability tree diagram. This branching diagram represents \n",
    "all possible individual probabilities for X and Y, with outcomes at the endpoints\n",
    " (\"leaves\") of the tree. The probability of any outcome is given by the product \n",
    " of probabilities along the path from the beginning of the tree.\n",
    "\n",
    "An event is simply a collection of outcomes. Because outcomes are distinct, the\n",
    " probability of an event can be written as the sum of the probabilities of its \n",
    " constituent outcomes. For our colored ball example, let A be the event \"Y is \n",
    " blue.\" Pr(A) is equal to the sum of the probabilities of two different outcomes: \n",
    " Pr(X=blue and Y=blue)+Pr(X=red and Y=blue), or 3/10+1/10=2/5 (see Figure 2 above).\n",
    "\n",
    "Given: Three positive integers k, m, and n, representing a population containing \n",
    "k+m+n organisms:  \n",
    "*  k individuals are homozygous dominant for a factor:: AA, \n",
    "*  m are heterozygous                                :: Aa \n",
    "*  n are homozygous recessive                        :: aa\n",
    "\n",
    "Return: The probability that two randomly selected mating organisms will \n",
    "produce an individual possessing a dominant allele (and thus displaying \n",
    "the dominant phenotype). Assume that any two organisms can mate.\n",
    "\n",
    "Sample Dataset  \n",
    "2 2 2  \n",
    "Sample Output  \n",
    "0.78333\n"
   ]
  },
  {
   "cell_type": "code",
   "execution_count": 44,
   "metadata": {},
   "outputs": [
    {
     "name": "stdout",
     "output_type": "stream",
     "text": [
      "ans == 0.78333 ? True (0.78333)\n"
     ]
    }
   ],
   "source": [
    "sh.test_prob_dominant()"
   ]
  },
  {
   "cell_type": "code",
   "execution_count": 58,
   "metadata": {},
   "outputs": [
    {
     "name": "stdout",
     "output_type": "stream",
     "text": [
      "k, m, n: 2 2 2\n"
     ]
    },
    {
     "data": {
      "text/plain": [
       "0.7833333333333333"
      ]
     },
     "execution_count": 58,
     "metadata": {},
     "output_type": "execute_result"
    }
   ],
   "source": [
    "sh.prob_dominant_from_file()"
   ]
  },
  {
   "cell_type": "code",
   "execution_count": 46,
   "metadata": {},
   "outputs": [
    {
     "data": {
      "text/plain": [
       "(0.75, 0.5, 0.0)"
      ]
     },
     "execution_count": 46,
     "metadata": {},
     "output_type": "execute_result"
    }
   ],
   "source": [
    "sh.trait_from_punnet_crossings('Aa', 'aa', 'A')"
   ]
  },
  {
   "cell_type": "markdown",
   "metadata": {},
   "source": [
    "---\n",
    "### Sort a list with capital letters preceding lower case ones:\n",
    "\n",
    "The key for the sort order is a tuple: (lower_case(x), X);\n",
    "Then, the comparison is ('x', 'X') < ('x', 'x') == True.\n",
    "```\n",
    "lst = ['c','C', 'a', 'b', 'B', 'A']\n",
    "lst_new = sorted(lst, key=lambda L: (L.lower(), L))\n",
    "\n",
    "lst_new \n",
    "['A', 'a', 'B', 'b', 'C', 'c']\n",
    "```"
   ]
  },
  {
   "cell_type": "code",
   "execution_count": 59,
   "metadata": {},
   "outputs": [
    {
     "data": {
      "text/plain": [
       "[['c', 'c'],\n",
       " ['C', 'c'],\n",
       " ['a', 'a', 'C', 'c'],\n",
       " ['B', 'b'],\n",
       " ['B', 'b'],\n",
       " ['A', 'a']]"
      ]
     },
     "execution_count": 59,
     "metadata": {},
     "output_type": "execute_result"
    }
   ],
   "source": [
    "lst = ['cc','cC', 'Cc' 'aa', 'Bb', 'bB', 'aA']\n",
    "lst_new = [sorted(p, key=lambda L: (L.lower(), L)) for p in lst]\n",
    "# output ????\n",
    "lst_new"
   ]
  },
  {
   "cell_type": "markdown",
   "metadata": {},
   "source": [
    "---\n",
    "---\n",
    "# PROT :: Translating RNA into Protein\n",
    "* Problem: http://rosalind.info/problems/prot/\n",
    "\n",
    "The 20 commonly occurring amino acids are abbreviated by using 20 letters from the English alphabet (all letters  \n",
    "except for B, J, O, U, X, and Z). Protein strings are constructed from these 20 symbols. Henceforth, the term  \n",
    "genetic string will incorporate protein strings along with DNA strings and RNA strings.\n",
    "\n",
    "The RNA codon table dictates the details regarding the encoding of specific codons into the amino acid alphabet. \n",
    "\n",
    "Given: An RNA string s corresponding to a strand of mRNA (of length at most 10 kbp).\n",
    "\n",
    "Return: The protein string encoded by s.\n",
    "\n",
    "Sample Dataset  \n",
    "AUGGCCAUGGCGCCCAGAACUGAGAUCAAUAGUACCCGUAUUAACGGGUGA  \n",
    "\n",
    "Sample Output  \n",
    "MAMAPRTEINSTRING"
   ]
  },
  {
   "cell_type": "code",
   "execution_count": 60,
   "metadata": {},
   "outputs": [
    {
     "name": "stdout",
     "output_type": "stream",
     "text": [
      "protein_seq_from_rna() == 'MAMAPRTEINSTRING' ? True\n"
     ]
    },
    {
     "data": {
      "text/plain": [
       "True"
      ]
     },
     "execution_count": 60,
     "metadata": {},
     "output_type": "execute_result"
    }
   ],
   "source": [
    "sh.test_protein_seq_from_rna()"
   ]
  },
  {
   "cell_type": "code",
   "execution_count": 63,
   "metadata": {
    "collapsed": true,
    "jupyter": {
     "outputs_hidden": true
    },
    "tags": []
   },
   "outputs": [
    {
     "data": {
      "text/plain": [
       "'MVLSSRCLRSIGFWPYRDCVQGSTVLRPEPLTSEQGVDRGKYATSVHISAVRHAPAGHREVFSLTIGVSPTAAALLTLHVLVNIRDFVRISDMLLQRYEAISRYSCNMIRHSANYGIGAWLGNGLPEPRPALSSVDLLLARRAKARATPIDHWQESGTCIDSQPFLLTERIRVGLRLGPGILRQLLFRRGCTDNCIGALPYDDALAGASIGKARAITVMLETMNTYESSTIVVAITRPIIRPPKGKVCREADSCRKTNIERVYDGRTKVMQERAPKAPAEIDFNMEYRDIIRASPSRHDRPYQVPRYSSVMGQLNNKNIMACRWYLQTPNFRGFLRYSSLNGHNQGLAEDPRLLQKKLHCCCPTLRAVKSHIVNQGAADGTSRTCASRTVHLLISQPGTTSSQGSVSGIIRPHELFGYIWRFASIIGQHALPHEQARVRDSTRDGAFHARETGPLIKISSSNSPKESPRNGTSVIDAYVGTVSLPSRILMIDTSVRKNINLYTPERDAHDGPCNPVTHGSLCLHKNENVGTAMKHVSRDAGCRLIICSKLIDRCCIPHLLTHVPFRIPGSLSTRFGFFYNSAALTWTQLSLHTCIFSNTVSGNGLGNSNRSVDLRLRSRSTFDNMRVGLAYILSSCALDTSYMYISFIPPCPRREPGIETCSSVRFQEGLRRRSNPTIDHIALEGERSKFVGSEPGEIRCINKGLRNLGMQKDLHGADKLRSTFACSSYLHGRGTPKALFSLLEYCLQDLVSRSKESFLTWLINKLRLSQFRACIYPDWPSIGLFRCDRFPNPYRTDRTPYGREHPLNRAVKENCGIIPLCLTCRIGSSVCSQKETVLDHIIQLVCDLTSHGVIRGLVPSPLLSRVKISGGIDDASSGYDRRMWVRIELIITASCFECWSLRPGTVSSWALGYSVSTSLSKMVSKQFSFPSALLRASGGLGVRRPPANEFYMLPLCRARAGRAPCRPYSDLGCAGDLTAWLFDRFPIQPSWGFYLSRSFMMSASIIPPLEPMVRRPRLHAVFGRIIVSKRLSPTLGCRPYQKKNYKWSRVVLMLKAKHATSCKVINGRRQSQLPVCLINASEPTVSDIETSERRRRVTYLPTLSFANLLHSGKSRSCYTTNIVNCLSNVPLHETASYLWDRRLRKGLYLSRWVRMGKRPHEYVSLLAVYPVHTMYTNQPPEIFDTSVKNPDKRWLTPLMRNRRTSKVLLLMNSDGSVPVVPSSPISGGRSKNLASRAPRRAGYLRNNRTDRRYELQSLTSRGSLTGGPVGPNIHSNFAPLAGTIKPRYRGCTYLTTERPTLAFGCVRLRYPNGNVCFVRTDTNQPTAGSVSANVVLRGTGANSRSARNSSINSSGLRPRHLVLCSAESAYATCTFTGAFSDVVSDMGTTYDSYTWRKVVVFVVHLCDQIRNITRSSASMCRRRVPVLLSSATIHLRTVVAQSTSAYPTFTILLLRWEVHLASPSRVLVLQTQTIIRIRSHTTHALWPRGSYRRPISSCSWRTSRFASVVSVTKHVDRKESRGVAYVDKAPKSVPFAMWCHGSSIDSSHREKSTASLNPSGKLAMNSLFSKPHRIGGDIGKSLCRLIQALPGTVLGCFYDLEPHCQIVCHNLSGVICRESASFVPGPRCALMSQLSRDHSALDWLCVELNSKVLVISEPERVFIAPWLRYIYIDRVALDPHTCPSLGHATPSSQGGSYVTAGPKLGILLQRIFKGLSLGRPGNRHEPDCPQPYALRTRIVTLYTRLIISPTAERDTPYYIRCYQVRSSADTRCWSSLAPDVSVFLYLRHHQKLSWCLPSHATDYRFNEGRLKDTIGWALLRIDWSNTPIILSFCFRPRSVLTSWVGITPPFKAQTVEVRFCSVLIPRIGMSAHYCTELGRTQGACFGNECSRVGCYITKCDCPTPIQQILTIERLRLVGPHMTSIGESCGVVSKCSRPYLSDTWMRGMQEAMYALCVARSTFHRNVATCLARISTVRRTDSAAEGACKLFGDLIHYHILSALLTARISQSETKGSDGHADRRCRSHRYDTSRITDYVPRRTKRYVRAIKPPFSPPSLAPITNIKQAAARRTIISARGQFVQLGEGPTGARQGSVNTTPSGIEVPRHPNSKTNHTPPACLISETLYPSSQLLHPRDSLQAELLQRRPHVIFSDGRWGCKVKRTLISNLTSQGLRSSMPFSAAHTQVLRNVCASALDLFHTKVLKELLTGPLIDSLESTTLPSHGPDCANHLASNPDRSLSMSHAVCCTMIIKITARRHSQRCLSPLNSDGVYINMSRSSRNGLYLCTSLLVTTDPPVPLDPRRPTMIIHNIHTNLHFAPAVVSVTSQSGCATAGSSIPSRNSFPHGMISRSLSLSIIEQPACGRSKGASLGLAKSFVTDTPHADEEPGEHGSYVDRRRWLGLSKVESAHSSTHWLGPTKIPLESSEAPSTWCNSGVVKYLGADRFHADCTQMRRKAQPDNCEKHPQSISTYLTSTVLPFLIITSSRWHTNTMPSIIMHASGREISDTSVASQPCILSARGTGRPGALVPNYLYLHQRPEIVHLSGSVLSKRGHSASLDSAEALQFKVELYALARGKVAMRILVRAADIQAGHVTHNMPKVRSRAGNKHESFRKALVLIYETFLGSVCLGVSYTARLTGGHRAGRSHLARNNLPQPDAHRFDGYDAQHLDALPCYRTTRSAGFGHKSAARQPYQYFESCGRHRNGLDNFSTLVYNRRQRLSRWDDNIRLFPALNSRIPKERIHSGSINGLLPLTLAEAPAIYTNGRILGQSKLDRNLSTNAPRRESFSYVVRCHNSCMSLNSESPSGRTTALASEPVANLRCGDTLWEVWQSRTGNNRNMRFSPLSMVRETYVICKQLRVGAWSMSPDPECDARASAFPRLRSLASWPNSRSTTKVSYAGGLSSSTIVCGGGFFQNISNQLSAPTVKELKSVINDVRMTPYVPSPVCGQNRTDTPQSAVCVKAMLGTLSVRLSRRIPSRGACYILRMGAPWKGNQVRGHLLMRFTAENGFSRSDLRDYLGPAVYLFTGFTCVLFSLARALRAPEKPPALVILSRLAYFCLTGDWPVLKTVQAGSINFIYGGQHGLQTPSRRPDKVGNAHTIGLLRLSMTPQLHGPWCSAFLASENPPKCFVPQVYAKGLHCQTWPALVEHTLLPPGLKLTVILDCGADCLCIQ'"
      ]
     },
     "execution_count": 63,
     "metadata": {},
     "output_type": "execute_result"
    }
   ],
   "source": [
    "rna = sh.rna_from_file()\n",
    "p = sh.protein_seq_from_rna(rna)\n",
    "p"
   ]
  },
  {
   "cell_type": "markdown",
   "metadata": {},
   "source": [
    "---\n",
    "---\n",
    "# SUBS :: Finding a motif in DNA\n",
    "* Problem: http://rosalind.info/problems/subs/\n",
    "\n",
    "## Combing Through the Haystack\n",
    "\n",
    "Finding the same interval of DNA in the genomes of two different organisms (often taken from different species)  \n",
    "is highly suggestive that the interval has the same function in both organisms.\n",
    "\n",
    "We define a motif as such a commonly shared interval of DNA. A common task in molecular biology is to search an   \n",
    "organism's genome for a known motif.\n",
    "\n",
    "The situation is complicated by the fact that genomes are riddled with intervals of DNA that occur multiple   \n",
    "times (possibly with slight modifications), called repeats. These repeats occur far more often than would be   \n",
    "dictated by random chance, indicating that genomes are anything but random and in fact illustrate that the   \n",
    "language of DNA must be very powerful (compare with the frequent reuse of common words in any human language).  \n",
    "\n",
    "The most common repeat in humans is the Alu repeat, which is approximately 300 bp long and recurs around a million  \n",
    "times throughout every human genome (see Figure 1). However, Alu has not been found to serve a positive purpose,  \n",
    "and appears in fact to be parasitic: when a new Alu repeat is inserted into a genome, it frequently causes genetic disorders. \n",
    "\n",
    "**Problem**  \n",
    "Given two strings $s$ and $t$, $t$ is a substring of $s$ if $t$ is contained as a contiguous collection of  \n",
    "symbols in $s$ (as a result, $t$ must be no longer than $s$).  \n",
    "\n",
    "The position of a symbol in a string is the total number of symbols found to its left, including  \n",
    "itself (e.g., the positions of all occurrences of 'U' in \"AUGCUUCAGAAAGGUCUUACG\" are 2, 5, 6, 15, 17, and 18).  \n",
    "The symbol at position $i$ of $s$ is denoted by $s[i]$.\n",
    "\n",
    "A substring of $s$ can be represented as $s[j:k]$, where $j$ and $k$ represent the starting and ending positions of  \n",
    "the substring in $s$; for example, if $s$ = \"AUGCUUCAGAAAGGUCUUACG\", then $s[2:5]$ = \"UGCU\". \n",
    "\n",
    "The location of a substring $s[j:k]$ is its beginning position $j$; note that $t$ will have multiple locations  \n",
    "in $s$ if it occurs more than once as a substring of $s$. \n",
    "\n",
    "Given: \n",
    "Two DNA strings $s$ and $t$ (each of length at most 1 kbp).  \n",
    "$t$ <= $s$\n",
    "\n",
    "Return: All locations of $t$ as a substring of $s$.  \n",
    "\n",
    "Sample Dataset    \n",
    "GATATATGCATATACTT  \n",
    "ATAT  \n",
    "\n",
    "Sample Output  \n",
    "2 4 10"
   ]
  },
  {
   "cell_type": "code",
   "execution_count": 64,
   "metadata": {},
   "outputs": [
    {
     "name": "stdout",
     "output_type": "stream",
     "text": [
      "get_motif_locs() == '2 4 10' ? True\n"
     ]
    },
    {
     "data": {
      "text/plain": [
       "True"
      ]
     },
     "execution_count": 64,
     "metadata": {},
     "output_type": "execute_result"
    }
   ],
   "source": [
    "sh.test_get_motif_locs()"
   ]
  },
  {
   "cell_type": "code",
   "execution_count": 66,
   "metadata": {
    "jupyter": {
     "source_hidden": true
    },
    "tags": []
   },
   "outputs": [],
   "source": [
    "# %load -n sh.two_seqs_from_file\n",
    "def two_seqs_from_file(fname=DATA.joinpath('rosalind_hamm.txt'),\n",
    "                       char_max=1000):\n",
    "    char_max += 1\n",
    "    with open(fname) as fh:\n",
    "        seqs = fh.readlines()\n",
    "    # assume only 2 lines\n",
    "    s = seqs[0].strip()[:char_max]\n",
    "    t = seqs[1].strip()[:char_max]\n",
    "    return s, t"
   ]
  },
  {
   "cell_type": "code",
   "execution_count": 67,
   "metadata": {},
   "outputs": [
    {
     "name": "stdout",
     "output_type": "stream",
     "text": [
      "17 27 43 70 163 170 198 217 273 280 341 356 404 440 462 486 493 528 558 666 780 803 810 832\n"
     ]
    }
   ],
   "source": [
    "dna, motif = sh.two_seqs_from_file(fname=DIR_DATA.joinpath('rosalind_subs.txt'))\n",
    "ans = sh.get_motif_locs(dna, motif)\n",
    "print(ans)"
   ]
  },
  {
   "cell_type": "markdown",
   "metadata": {},
   "source": [
    "---\n",
    "---\n",
    "# CONS :: Finding a Most Likely Common Ancestor  \n",
    "* Problem: http://rosalind.info/problems/cons/\n",
    "\n",
    "In “Counting Point Mutations”, we calculated the minimum number of symbol mismatches between two \n",
    "strings of equal length (dH()) to model the problem of finding the minimum number of point mutations \n",
    "occurring on the evolutionary path between two homologous strands of DNA. If we instead have several \n",
    "homologous strands that we wish to analyze simultaneously, then the natural problem is to find an \n",
    "average-case strand to represent the most likely common ancestor of the given strands.  \n",
    "\n",
    "## Problem\n",
    "A matrix is a rectangular table of values divided into rows and columns. An m×n matrix has m rows and n columns. \n",
    "Given a matrix A, we write Ai,j to indicate the value found at the intersection of row i and column j.\n",
    "\n",
    "Say that we have a collection of DNA strings, all having the same length n. \n",
    "Their profile matrix is a 4×n matrix P in which P1,j represents the number of times that 'A' occurs in the \n",
    "jth position of one of the strings, P2,j represents the number of times that C occurs in the jth position, and so on.  \n",
    "\n",
    "A consensus string c is a string of length n formed from our collection by taking the most common symbol at \n",
    "each position; the jth symbol of c therefore corresponds to the symbol having the maximum value in the j-th column \n",
    "of the profile matrix. Of course, there may be more than one most common symbol, leading to multiple possible \n",
    "consensus strings.  \n",
    "\n",
    "```\n",
    "DNA strings:\n",
    "        A T C C A G C T\n",
    "        G G G C A A C T\n",
    "        A T G G A T C T\n",
    "        A A G C A A C C\n",
    "        T T G G A A C T\n",
    "        A T G C C A T T\n",
    "        A T G G C A C T\n",
    "\n",
    "Profile:\n",
    "    A   5 1 0 0 5 5 0 0\n",
    "    C   0 0 1 4 2 0 6 1\n",
    "    G   1 1 6 3 0 1 0 0\n",
    "    T   1 5 0 0 0 1 1 6\n",
    "    \n",
    "Consensus:\n",
    "        A T G C A A C T\n",
    " \n",
    "```\n",
    "\n",
    "Given: A collection of at most 10 DNA strings of equal length (at most 1 kbp) in FASTA format.\n",
    "\n",
    "Return: A consensus string and profile matrix for the collection. \n",
    "(If several possible consensus strings exist, then you may return any one of them.)\n",
    "\n",
    "Sample Dataset \n",
    "```\n",
    ">Rosalind_1\n",
    "ATCCAGCT\n",
    ">Rosalind_2\n",
    "GGGCAACT\n",
    ">Rosalind_3\n",
    "ATGGATCT\n",
    ">Rosalind_4\n",
    "AAGCAACC\n",
    ">Rosalind_5\n",
    "TTGGAACT\n",
    ">Rosalind_6\n",
    "ATGCCATT\n",
    ">Rosalind_7\n",
    "ATGGCACT\n",
    "```\n",
    "Sample Output \n",
    "```\n",
    "ATGCAACT\n",
    "A: 5 1 0 0 5 5 0 0\n",
    "C: 0 0 1 4 2 0 6 1\n",
    "G: 1 1 6 3 0 1 0 0\n",
    "T: 1 5 0 0 0 1 1 6\n",
    "```"
   ]
  },
  {
   "cell_type": "code",
   "execution_count": 80,
   "metadata": {},
   "outputs": [],
   "source": [
    "# %load -n sh.get_consensus\n",
    "def get_consensus(seqs):\n",
    "    \"\"\"\n",
    "    seqs: an m sequences x n nucleotides array.\n",
    "    \"\"\"\n",
    "    profile = defaultdict(list)\n",
    "    for c in range(seqs.shape[1]):\n",
    "        col = seqs[:, c].flatten()\n",
    "        cnt = Counter(col)\n",
    "        for base in 'ACGT':\n",
    "            profile[base].append(cnt[base])\n",
    "\n",
    "    max_idx = np.argmax(np.array([v for v in profile.values()]), axis=0)\n",
    "    consensus = ''.join(nts[i] for i in max_idx)\n",
    "    \n",
    "    return consensus, profile"
   ]
  },
  {
   "cell_type": "code",
   "execution_count": 85,
   "metadata": {},
   "outputs": [
    {
     "name": "stdout",
     "output_type": "stream",
     "text": [
      "test_get_consensus()\n",
      "  consensus: True; profile: True\n"
     ]
    }
   ],
   "source": [
    "sh.test_get_consensus()"
   ]
  },
  {
   "cell_type": "code",
   "execution_count": 101,
   "metadata": {},
   "outputs": [],
   "source": [
    "# run with newly downloaded data:\n",
    "data = sh.seqs_from_fasta_files(multifasta=DIR_DATA.joinpath('rosalind_cons.txt'))\n",
    "seqs = np.array(data[1])\n",
    "\n",
    "consensus, profile = sh.get_consensus(seqs)\n",
    "s = F'{consensus}\\n'\n",
    "s += sh.get_profile_printout(profile)\n",
    "#print(s)\n",
    "\n",
    "fname = DIR_DATA.joinpath('profile.ans')\n",
    "sh.save_str_to_file(s, fname)"
   ]
  },
  {
   "cell_type": "markdown",
   "metadata": {},
   "source": [
    "---\n",
    "---\n",
    "# FIBD :: Mortal Fibonacci Rabbits \n",
    "* Problem: http://rosalind.info/problems/fibd/"
   ]
  },
  {
   "cell_type": "code",
   "execution_count": 4,
   "metadata": {
    "jupyter": {
     "source_hidden": true
    },
    "tags": []
   },
   "outputs": [
    {
     "data": {
      "image/png": "[encoded data removed]",
      "text/plain": [
       "<IPython.core.display.Image object>"
      ]
     },
     "execution_count": 4,
     "metadata": {
      "image/png": {
       "width": 400
      }
     },
     "output_type": "execute_result"
    },
    {
     "data": {
      "text/markdown": [
       "**Figure 4**. A figure illustrating the propagation of Fibonacci's rabbits if they die  \n",
       "after three months (meaning that they reproduce only twice before dying)."
      ],
      "text/plain": [
       "<IPython.core.display.Markdown object>"
      ]
     },
     "execution_count": 4,
     "metadata": {},
     "output_type": "execute_result"
    }
   ],
   "source": [
    "Image('mortal_rabbit_tree.png', width=400)\n",
    "Markdown(\"\"\"**Figure 4**. A figure illustrating the propagation of Fibonacci's rabbits if they die  \n",
    "after three months (meaning that they reproduce only twice before dying).\"\"\")"
   ]
  },
  {
   "cell_type": "markdown",
   "metadata": {},
   "source": [
    "## Problem \n",
    "\n",
    "Recall the definition of the Fibonacci numbers from “Rabbits and Recurrence Relations”, which followed  \n",
    "the recurrence relation $F_n$ = $F_{n−1}$ + $F_{n−2}$ and assumed that each pair of rabbits reaches  \n",
    "maturity in one month and produces a single pair of offspring (one male, one female) each subsequent month.  \n",
    "\n",
    "Our aim is to somehow modify this recurrence relation to achieve a dynamic programming solution in the  \n",
    "case that all rabbits die out after a fixed number of months.  \n",
    "\n",
    "Given: Positive integers n ≤ 100 and m ≤ 20. \n",
    "\n",
    "Return: The total number of pairs of rabbits that will remain after the n-th month if all rabbits live for m months. \n",
    "\n",
    "Sample Dataset  \n",
    "6 3  \n",
    "Sample Output  \n",
    "4"
   ]
  },
  {
   "cell_type": "code",
   "execution_count": 108,
   "metadata": {},
   "outputs": [
    {
     "name": "stdout",
     "output_type": "stream",
     "text": [
      "test_fib_pairs_mortal(3, 6)\n",
      "Ans = 4?: True: 4\n",
      "test_fib_pairs_mortal(16, 94)\n",
      "Ans = 19422747110843061063?: True: 19422747110843061063\n"
     ]
    }
   ],
   "source": [
    "sh.test_fib_pairs_mortal()"
   ]
  },
  {
   "cell_type": "code",
   "execution_count": 109,
   "metadata": {},
   "outputs": [],
   "source": [
    "# %load -n sh.fib_pairs_mortal\n",
    "def fib_pairs_mortal(n, m, dbg=False):\n",
    "    \"\"\"\n",
    "    Return: total # of pairs after n months have elapsed if all rabbits live\n",
    "            for m months.\n",
    "            Each pair of rabbits reaches maturity in one month and produces \n",
    "            a single pair of offspring (one male, one female) each subsequent\n",
    "            month.\n",
    "    n :: generations in months, n ≤ 100.\n",
    "    m :: lifetime in months, m ≤ 20.\n",
    "    dbg :: debug flag, to print intermediate result\n",
    "    \"\"\"\n",
    "    if (n <= 0) | (n > 100):\n",
    "        return \"Incorrect number of generations, n: (1-100)\"\n",
    "    if (m <= 0) | (m > 20):\n",
    "        return \"Incorrect lifespan (in months), m: (1-20)\"\n",
    "    \n",
    "    # Rabbits born in generation i are produced by rabbits born during \n",
    "    # the previous (m-1) generation, ie. births[i] = sum(births[i-m:i-1]). \n",
    "    # The sum of births during the last m generations is the current pop since\n",
    "    # all rabbits older than m are dead.\n",
    "    \n",
    "    Pop = [1] + [0]*(m - 1)\n",
    "    if dbg:\n",
    "        pops = []\n",
    "        pops.append([0, sum(Pop), Pop])\n",
    "    \n",
    "    for i in range(1, n):\n",
    "        Pop = [sum(Pop[1:])] + Pop[:-1]\n",
    "        if dbg:\n",
    "            pops.append([i, sum(Pop), Pop])\n",
    "\n",
    "    if dbg:\n",
    "        print(pops)\n",
    "    return sum(Pop)"
   ]
  },
  {
   "cell_type": "code",
   "execution_count": 110,
   "metadata": {},
   "outputs": [
    {
     "name": "stdout",
     "output_type": "stream",
     "text": [
      "fib_pairs_mortal:\n",
      "months: 0, pairs: 1\n",
      "months: 1, pairs: 1\n",
      "months: 2, pairs: 2\n",
      "months: 3, pairs: 2\n",
      "months: 4, pairs: 3\n",
      "months: 5, pairs: 4\n"
     ]
    }
   ],
   "source": [
    "print('fib_pairs_mortal:')\n",
    "n, m = 6, 3\n",
    "for i in range(n):\n",
    "    c = i + 1\n",
    "    print(F'months: {i}, pairs: {sh.fib_pairs_mortal(c, m)}')"
   ]
  },
  {
   "cell_type": "markdown",
   "metadata": {},
   "source": [
    "---\n",
    "---\n",
    "# GRPH :: A Brief Introduction to Graph Theory  \n",
    "* Problem: http://rosalind.info/problems/grph/ \n",
    "\n",
    "Networks arise everywhere in the practical world, especially in biology. Networks are prevalent in popular applications such as modeling the spread  \n",
    "of disease, but the extent of network applications spreads far beyond popular science. Our first question asks how to computationally model a network without  \n",
    "actually needing to render a picture of the network.\n",
    "\n",
    "First, some terminology: graph is the technical term for a network; a graph is made up of hubs called nodes (or vertices), pairs of which are connected via segments/curves  \n",
    "called edges. If an edge connects nodes \\$v$ and $w$, then it is denoted by $v,w$ (or equivalently $w,v$).\n",
    "\n",
    "* an edge $v,w$ is incident to nodes $v$ and $w$; $v$ and $w$ are adjacent to each other;\n",
    "* the degree of $v$ is the number of edges incident to it;\n",
    "* a walk is an ordered collection of edges for which the ending node of one edge is the \n",
    "  starting node of the next (e.g., {v1,v2}, {v2,v3}, {v3,v4}, etc.);\n",
    "* a path is a walk in which every node appears in at most two edges;\n",
    "* path length is the number of edges in the path;\n",
    "* a cycle is a path whose final node is equal to its first node (so that every node is \n",
    "  incident to exactly two edges in the cycle); and \n",
    "* the distance between two vertices is the length of the shortest path connecting them.  \n",
    "\n",
    "Graph theory is the abstract mathematical study of graphs and their properties.\n",
    "\n",
    "## Problem  \n",
    "A graph whose nodes have all been labeled can be represented by an adjacency list, in which each  \n",
    "row of the list contains the two node labels corresponding to a unique edge.\n",
    "\n",
    "A directed graph (or digraph) is a graph containing directed edges, each of which has an orientation.  \n",
    "That is, a directed edge is represented by an arrow instead of a line segment; the starting and ending  \n",
    "nodes of an edge form its tail and head, respectively.  \n",
    "The directed edge with tail \\$v$ and head $w$ is represented by $(v,w)$ (but not by $(w,v)$).  \n",
    "A directed loop is a directed edge of the form $(v,v)$.\n",
    "\n",
    "For a collection of strings and a positive integer $k$, the _overlap graph_ for the strings is a directed  \n",
    "graph $O_{k}$ in which each string is represented by a node, and string $s$ is connected to string $t$ with  \n",
    "a directed edge when there is a length $k$ suffix of $s$ that matches a length $k$ prefix of $t$, as long  \n",
    "as $s≠t$; we demand $s≠t$ to prevent directed loops in the overlap graph (although directed cycles may be present). \n",
    "\n",
    "Given: A collection of DNA strings in FASTA format having total length at most 10 kbp.  \n",
    "\n",
    "Return: The adjacency list corresponding to $O_{3}$. You may return edges in any order.   \n",
    "\n",
    "Sample Dataset\n",
    "```\n",
    ">Rosalind_0498\n",
    "AAATAAA\n",
    ">Rosalind_2391\n",
    "AAATTTT\n",
    ">Rosalind_2323\n",
    "TTTTCCC\n",
    ">Rosalind_0442\n",
    "AAATCCC\n",
    ">Rosalind_5013\n",
    "GGGTGGG\n",
    "```\n",
    "\n",
    "Sample Output\n",
    "```\n",
    "Rosalind_0498 Rosalind_2391\n",
    "Rosalind_0498 Rosalind_0442\n",
    "Rosalind_2391 Rosalind_2323\n",
    "```"
   ]
  },
  {
   "cell_type": "code",
   "execution_count": 102,
   "metadata": {},
   "outputs": [
    {
     "name": "stdout",
     "output_type": "stream",
     "text": [
      "test_overlap_graph()\n",
      "Ans = ['Rosalind_0498 Rosalind_2391', 'Rosalind_0498 Rosalind_0442', 'Rosalind_2391 Rosalind_2323']?: True\n"
     ]
    }
   ],
   "source": [
    "sh.test_overlap_graph()"
   ]
  },
  {
   "cell_type": "code",
   "execution_count": 78,
   "metadata": {},
   "outputs": [],
   "source": [
    "fname = DIR_DATA.joinpath('rosalind_grph.txt')\n",
    "edges = sh.print_overlap_edges(sh.overlap_graph(fname))\n",
    "sh.save_seqs_to_file(edges, DIR_DATA.joinpath('overlap.ans'))"
   ]
  },
  {
   "cell_type": "markdown",
   "metadata": {},
   "source": [
    "---\n",
    "---\n",
    "# IEV :: Calculating Expected Offspring\n",
    "* Problem: http://rosalind.info/problems/iev/\n",
    "\n",
    "\n",
    "The Need for Averages\n",
    ">[...] Researchers need to predict the expected number of antibiotic-resistant pathogenic bacteria in a future outbreak, estimate the predicted number of locations in the genome that will match a given motif, and study the distribution of alleles throughout an evolving population. In this problem, we will begin discussing the third issue; first, we need to have a better understanding of what it means to average a random process.\n",
    "\n",
    "* Problem\n",
    "For a random variable X taking integer values between 1 and n, the expected value of X is E(X) = $\\sum_{k=1}^{n} k × Pr(X=k)$.  \n",
    "The expected value offers us a way of taking the long-term average of a random variable over a large number of trials.\n",
    "\n",
    "As a motivating example, let X be the number on a six-sided die. Over a large number of rolls, we should expect to obtain an average of 3.5 on the die (even though it's not possible to roll a 3.5). The formula for expected value confirms that E(X) = $\\sum_{k=1}^{6} k × Pr(X=k)$ = 3.5.\n",
    "\n",
    "More generally, a random variable for which every one of a number of equally spaced outcomes has the same probability is called a uniform random variable (in the die example, this \"equal spacing\" is equal to 1). We can generalize our die example to find that if X is a uniform random variable with minimum possible value a and maximum possible value b, then E(X)=a+b2. You may also wish to verify that for the dice example, if Y is the random variable associated with the outcome of a second die roll, then E(X+Y)=7.\n",
    "\n",
    "Given: Six nonnegative integers, each of which does not exceed 20,000. The integers correspond to the number of couples in a population possessing each genotype pairing for a given factor. In order, the six given integers represent the number of couples having the following genotypes:\n",
    "\n",
    "AA-AA\n",
    "AA-Aa\n",
    "AA-aa\n",
    "Aa-Aa\n",
    "Aa-aa\n",
    "aa-aa\n",
    "Return: The expected number of offspring displaying the dominant phenotype in the next generation, under the assumption that every couple has exactly two offspring.\n",
    "\n",
    "Sample Dataset\n",
    "1 0 0 1 0 1\n",
    "Sample Output\n",
    "3.5"
   ]
  },
  {
   "cell_type": "code",
   "execution_count": null,
   "metadata": {},
   "outputs": [],
   "source": []
  }
 ],
 "metadata": {
  "kernelspec": {
   "display_name": "Python 3",
   "language": "python",
   "name": "python3"
  },
  "language_info": {
   "codemirror_mode": {
    "name": "ipython",
    "version": 3
   },
   "file_extension": ".py",
   "mimetype": "text/x-python",
   "name": "python",
   "nbconvert_exporter": "python",
   "pygments_lexer": "ipython3",
   "version": "3.7.6"
  }
 },
 "nbformat": 4,
 "nbformat_minor": 4
}
