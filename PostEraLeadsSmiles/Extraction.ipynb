{
 "cells": [
  {
   "cell_type": "code",
   "execution_count": 1,
   "metadata": {
    "scrolled": true
   },
   "outputs": [
    {
     "name": "stdout",
     "output_type": "stream",
     "text": [
      "Python ver: 3.6.7 (default, Feb 28 2019, 07:28:18) [MSC v.1900 64 bit (AMD64)]\n",
      "Python env: dsml\n",
      "Currrent dir: C:\\Users\\catch\\Documents\\GitHub\\Bioinformatics\\PostEraLeadsSmiles\n",
      "\n",
      "Path added to sys.path: C:\\Users\\catch\\Documents\\GitHub\\Bioinformatics\\PostEraLeadsSmiles\n"
     ]
    }
   ],
   "source": [
    "import sys\n",
    "from pathlib import Path, PurePath as PPath\n",
    "\n",
    "print('Python ver: {}\\nPython env: {}'.format(sys.version, Path(sys.prefix).name))\n",
    "print('Currrent dir: {}\\n'.format(Path.cwd()))\n",
    "\n",
    "def add_to_sys_path(this_path, up=False):\n",
    "    \"\"\"\n",
    "    Prepend this_path to sys.path.\n",
    "    If up=True, path refers to parent folder (1 level up).\n",
    "    \"\"\"\n",
    "    if up:\n",
    "        # NB: Path does not have a str method.\n",
    "        newp = str(PPath(this_path).parent)\n",
    "    else:\n",
    "        newp = str(PPath(this_path)) \n",
    "    \n",
    "    if newp not in sys.path:\n",
    "        sys.path.insert(1, newp)\n",
    "        print('Path added to sys.path: {}'.format(newp))\n",
    "\n",
    "# if notebook inside another folder, eg ./notebooks:\n",
    "nb_folder = 'notebooks'\n",
    "add_to_sys_path(Path.cwd(), Path.cwd().name.startswith(nb_folder))\n",
    "\n",
    "\n",
    "def get_project_dirs(which=['data', 'images'], nb_folder='notebooks'):\n",
    "    dir_lst = []\n",
    "    if Path.cwd().name.startswith(nb_folder):\n",
    "        dir_fn = Path.cwd().parent.joinpath\n",
    "    else:\n",
    "        dir_fn = Path.cwd().joinpath\n",
    "        \n",
    "    for d in which:\n",
    "        DIR = dir_fn(d)\n",
    "        if not DIR.exists():\n",
    "            Path.mkdir(DIR)\n",
    "        dir_lst.append(DIR)\n",
    "    return dir_lst\n",
    "\n",
    "DIR_DATA, DIR_IMG = get_project_dirs()\n",
    "DATA_RAW = DIR_DATA.joinpath('raw')\n",
    "DATA_INTERIM = DIR_DATA.joinpath('intermediate')\n",
    "DATA_READY = DIR_DATA.joinpath('production')\n",
    "\n",
    "def data_subfolders(folders=[DATA_RAW, DATA_INTERIM, DATA_READY]):\n",
    "    if folders is not None:\n",
    "        for d in folders:\n",
    "            if not d.exists():\n",
    "                Path.mkdir(d)\n",
    "                print(f'Created: {d}')\n",
    "data_subfolders()\n",
    "\n",
    "import numpy as np\n",
    "import scipy as sp\n",
    "from scipy import stats as sps\n",
    "import pandas as pd\n",
    "#pd.set_option(\"display.max_colwidth\", 200)\n",
    "\n",
    "import matplotlib as mpl\n",
    "from matplotlib import pyplot as plt\n",
    "plt.ion()\n",
    "plt.style.use('seaborn-muted')\n",
    "\n",
    "from pprint import pprint as pp\n",
    "\n",
    "# Filtered dir() for method discovery:\n",
    "def filter_dir(obj, start_with_str='_', exclude=True):\n",
    "    return [d for d in dir(obj) if not d.startswith(start_with_str) == exclude]\n",
    "\n",
    "\n",
    "from IPython.core.interactiveshell import InteractiveShell\n",
    "InteractiveShell.ast_node_interactivity = \"all\"\n",
    "\n",
    "from IPython.display import HTML, Markdown #, IFrame\n",
    "# for presentations:\n",
    "#display(HTML(\"<style>.container { width:100% !important; }</style>\"))\n",
    "\n",
    "\n",
    "def new_section(title='New section'):\n",
    "    style = \"text-align:center;background:#c2d3ef;padding:16px;color:#ffffff;font-size:2em;width:98%\"\n",
    "    return HTML('<div style=\"{}\">{}</div>'.format(style, title))\n",
    "\n",
    "\n",
    "def add_div(div_class, div_start, div_text, output_string=True):\n",
    "    from IPython import get_ipython\n",
    "    from IPython.display import HTML, Markdown\n",
    "    \"\"\"\n",
    "    Behaviour with default `output_string=True`:\n",
    "    The cell is overwritten with the output string, but the cell mode is still in 'code' not 'markdown':\n",
    "    ```\n",
    "    [x]\n",
    "    add_div('alert-warning', 'Tip: ', 'some tip here', output_string=True)\n",
    "    [x]\n",
    "    <div class=\"alert alert-warning\"><b>Tip: </b>some tip here</div>\n",
    "    ```\n",
    "    The only thing to do is change the cell mode to Markdown.\n",
    "    If `output_string=False`, the HTML output is displayed in an output cell.\n",
    "    \"\"\"\n",
    "    accepted = ['alert-info', 'alert-warning', 'alert-danger']\n",
    "    if div_class not in accepted:\n",
    "        return HTML(f\"\"\"<div class=\"alert\"><b>Wrong class:</b> `div_start` is one of {accepted}.\n",
    "                    </div>\"\"\")\n",
    "    div = f\"\"\"<div class=\"alert {div_class}\"><b>{div_start}</b>{div_text}</div>\"\"\"\n",
    "    if output_string:\n",
    "        return get_ipython().set_next_input(div, 'markdown')\n",
    "    else:\n",
    "        return Markdown(div) #HTML(div)\n",
    "\n",
    "# autoreload extension\n",
    "from IPython import get_ipython\n",
    "ipython = get_ipython()\n",
    "\n",
    "if 'autoreload' not in ipython.extension_manager.loaded:\n",
    "    %load_ext autoreload\n",
    "\n",
    "%autoreload 2"
   ]
  },
  {
   "cell_type": "markdown",
   "metadata": {},
   "source": [
    "---\n",
    "---\n",
    "# Refactored SMILES code extracting function from PostEra's submission page of lead compounds against COVID19. \n",
    "url = \"https://covid.postera.ai/covid/submissions\"\n",
    "  \n",
    "The output of the main function `get_submissions_dict()` is now a dictionnary:\n",
    "```\n",
    "dict(submitter_id: [smiles code of each submission])\n",
    "```\n",
    "\n",
    "## Note:\n",
    "The extraction is a slow process as the details page must be visited, hence parsed, even though there may only be a single entry (in wich case it is already listed in the main submission page).\n",
    "---"
   ]
  },
  {
   "cell_type": "code",
   "execution_count": 2,
   "metadata": {},
   "outputs": [],
   "source": [
    "import postera_smiles as psmiles"
   ]
  },
  {
   "cell_type": "code",
   "execution_count": 3,
   "metadata": {},
   "outputs": [
    {
     "data": {
      "text/markdown": [
       "\n",
       "# Module: postera_smiles.py\n",
       "The main function `get_submissions_dict()` performs two extractions:\n",
       "* First extraction on https://covid.postera.ai/covid/submissions:\n",
       "  The submitter's details page address from the anchor.href of the h5 (class=\"mb-1\") tag.\n",
       "* Second extraction on the the submitter's details page:\n",
       "  All the alt.string from the img (class=\"card-img\") tags.\n",
       "\n",
       "Submission page entry example on https://covid.postera.ai/covid/submissions:\n",
       "```\n",
       "<div class=\"card h-100\">\n",
       "    <div class=\"card-header\">\n",
       "      <h5 class=\"mb-1\"><a href=\"submissions/fedd1f79-9ed6-4487-a801-e6f14abf8e11\">PET-SGC-fed</a></h5>\n",
       "    </div>\n",
       "    <img src=\"/synthesize/CC1C=CN=CC=1NC(=O)CCCCN1CCN(C(=O)COC2C=CC(C)=CC=2)CC1\" class=\"card-img\" alt=\"CC1C=CN=CC=1NC(=O)CCCCN1CCN(C(=O)COC2C=CC(C)=CC=2)CC1\">\n",
       "    <div class=\"card-body\">\n",
       "      <a style=\"width: 100%\" href=\"/covid/submissions/fedd1f79-9ed6-4487-a801-e6f14abf8e11\" class=\"mb-2 btn btn-primary\">View</a>\n",
       "    </div>\n",
       "</div>\n",
       "```\n",
       "Details page example (here with single entry): \n",
       "```\n",
       "<div id=\"smiles_list\" class=\"row row-cols-1 row-cols-md-4\">  \n",
       "    <div class=\"col col-md-3 mb-4\">\n",
       "      <div class=\"card h-100\">\n",
       "        <img src=\"/synthesize/CC1C=CN=CC=1NC(=O)CCCCN1CCN(C(=O)COC2C=CC(C)=CC=2)CC1\" class=\"card-img\" alt=\"CC1C=CN=CC=1NC(=O)CCCCN1CCN(C(=O)COC2C=CC(C)=CC=2)CC1\">\n",
       "        <div class=\"card-body text-left\">\n",
       "          <p><strong>PET-SGC-fed-1</strong></p>\n",
       "          <p>CC1C=CN=CC=1NC(=O)CCCCN1CCN(C(=O)COC2C=CC(C)=CC=2)CC1</p>\n",
       "        </div>\n",
       "      </div>\n",
       "    </div>\n",
       "</div>\n",
       "```\n",
       "Call examples:\n",
       "--------------\n",
       "## 1. Command line: Optional argument is a folder path. \n",
       "The json filename has pattern <2020_12_31_23_59>_postera_smiles.json.\n",
       "Command:\n",
       "```\n",
       "python postera_smiles.py ./data/intermediate\n",
       "```\n",
       "Output:\n",
       "```\n",
       "Getting PostEra.ai COVID submissions SMILES codes (Note: slow process!)...\n",
       "Submissions SMILES json file saved as:\n",
       "    data/intermediate/2020_03_27_15_38_postera_smiles.json\n",
       "```\n",
       "\n",
       "## 2. Using the postera_smiles.py module:\n",
       "```\n",
       "import postera_smiles as psmiles\n",
       "from pathlib import Path\n",
       "\n",
       "submitters_dict = psmiles.get_submissions_dict()\n",
       "\n",
       "fname = Path.cwd().joinpath('data', 'intermediate', psmiles.get_stamped_filename())\n",
       "psmiles.save_as_json(fname, submitters_dict)\n",
       "\n",
       "# to load:\n",
       "\n",
       "jdict = psmiles.load_json(fname)\n",
       "list(jdict.keys())[:5]\n",
       "```\n"
      ],
      "text/plain": [
       "<IPython.core.display.Markdown object>"
      ]
     },
     "execution_count": 3,
     "metadata": {},
     "output_type": "execute_result"
    }
   ],
   "source": [
    "Markdown(psmiles.__doc__)"
   ]
  },
  {
   "cell_type": "markdown",
   "metadata": {},
   "source": [
    "# Example (the extraction takes almost 3 minutes!):"
   ]
  },
  {
   "cell_type": "code",
   "execution_count": 4,
   "metadata": {},
   "outputs": [],
   "source": [
    "submitters_dict = psmiles.get_submissions_dict()\n",
    "\n",
    "fname = Path.cwd().joinpath('data', 'intermediate', psmiles.get_stamped_filename())\n",
    "\n",
    "psmiles.save_as_json(fname, submitters_dict)"
   ]
  },
  {
   "cell_type": "markdown",
   "metadata": {},
   "source": [
    "## Load a saved file:"
   ]
  },
  {
   "cell_type": "code",
   "execution_count": 5,
   "metadata": {},
   "outputs": [
    {
     "data": {
      "text/plain": [
       "['PET-SGC-fed', 'JAN-GHE-fd8', 'ALE-UNK-fca', 'DAR-DIA-fc9', 'PET-SGC-fc6']"
      ]
     },
     "execution_count": 5,
     "metadata": {},
     "output_type": "execute_result"
    }
   ],
   "source": [
    "jdict = psmiles.load_json(fname)\n",
    "list(jdict.keys())[:5]"
   ]
  },
  {
   "cell_type": "code",
   "execution_count": 6,
   "metadata": {},
   "outputs": [
    {
     "data": {
      "text/plain": [
       "['CC1C=CN=CC=1NC(=O)CCCCN1CCN(C(=O)COC2C=CC(C)=CC=2)CC1']"
      ]
     },
     "execution_count": 6,
     "metadata": {},
     "output_type": "execute_result"
    },
    {
     "data": {
      "text/plain": [
       "['C(CN1CCN(C(=O)C)CC1)1=C(NCC)N=CC(C#N)=C1',\n",
       " 'C1(C=C(C#CC)C=NC=1NC1=CC=CC=C1)CN1CCN(C(C)=O)CC1',\n",
       " 'C1(C(NCCO)=NC=C(Cl)C=1)CN1CCN(C(=O)C)CC1',\n",
       " 'C1(C=C(C#N)C=NC=1NCC)CN1CC(C1)1CN(C1)C(C)=O',\n",
       " 'C1(C(NCC)=NC=C(C#N)C=1)CN1C[C@]([H])2[C@@]([H])(C1)CN(C(=O)C)C2',\n",
       " 'C1(C=C(C#N)C=NC=1NCC)CN1CCN(C(C)=O)CCC1',\n",
       " 'C1(C(NCC)=CC=C(C#N)C=1)C(=O)N1CCN(C(=O)C)CC1',\n",
       " 'C1(C=C(C#N)C=CC=1NC1CC1)CN1CCN(C(C)=O)CC1',\n",
       " 'C1(C(NCC)=CC=C(C#CC)C=1)CN1CCN(C(=O)C)CC1',\n",
       " 'C1(C=C(F)C=CC=1NCC)CN1CCN(C(C)=O)CC1',\n",
       " 'C1(C=C(C#N)C=NC=1NC1CC1)CNCCNC(C)=O',\n",
       " 'C1(C(CNC(=O)N2CCOCC2)=CC=C(C#N)C=1)CN1CCN(C(=O)C)CC1']"
      ]
     },
     "execution_count": 6,
     "metadata": {},
     "output_type": "execute_result"
    }
   ],
   "source": [
    "jdict['PET-SGC-fed']\n",
    "jdict['JAN-GHE-fd8']"
   ]
  },
  {
   "cell_type": "markdown",
   "metadata": {},
   "source": [
    "## Check tiny molecules:"
   ]
  },
  {
   "cell_type": "code",
   "execution_count": 7,
   "metadata": {},
   "outputs": [
    {
     "data": {
      "text/plain": [
       "['ELE-UNK-bfe']"
      ]
     },
     "execution_count": 7,
     "metadata": {},
     "output_type": "execute_result"
    }
   ],
   "source": [
    "out = []\n",
    "for k, smiles in jdict.items():\n",
    "    for i, v in enumerate(smiles):\n",
    "        if len(v) < 3:\n",
    "            out.append(k)\n",
    "            break\n",
    "        \n",
    "out"
   ]
  },
  {
   "cell_type": "code",
   "execution_count": 8,
   "metadata": {},
   "outputs": [
    {
     "data": {
      "text/plain": [
       "['C']"
      ]
     },
     "execution_count": 8,
     "metadata": {},
     "output_type": "execute_result"
    }
   ],
   "source": [
    "jdict['ELE-UNK-bfe']  # SMILES('C') == methane ???"
   ]
  },
  {
   "cell_type": "markdown",
   "metadata": {},
   "source": [
    "## Retrieve all codes"
   ]
  },
  {
   "cell_type": "code",
   "execution_count": 9,
   "metadata": {},
   "outputs": [
    {
     "data": {
      "text/plain": [
       "2063"
      ]
     },
     "execution_count": 9,
     "metadata": {},
     "output_type": "execute_result"
    }
   ],
   "source": [
    "all_smiles = [v for k in jdict.keys() for i, v in enumerate(jdict[k])]\n",
    "len(all_smiles)"
   ]
  },
  {
   "cell_type": "code",
   "execution_count": null,
   "metadata": {},
   "outputs": [],
   "source": []
  }
 ],
 "metadata": {
  "kernelspec": {
   "display_name": "Python 3",
   "language": "python",
   "name": "python3"
  },
  "language_info": {
   "codemirror_mode": {
    "name": "ipython",
    "version": 3
   },
   "file_extension": ".py",
   "mimetype": "text/x-python",
   "name": "python",
   "nbconvert_exporter": "python",
   "pygments_lexer": "ipython3",
   "version": "3.6.7"
  }
 },
 "nbformat": 4,
 "nbformat_minor": 4
}
