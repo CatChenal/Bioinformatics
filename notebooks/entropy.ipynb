








<!DOCTYPE html>
<html lang="en">

<head>
  <meta charset="utf-8">
  <title>Jupyter Notebook Viewer</title>
  <meta name="viewport" content="width=device-width, initial-scale=1.0">
  <meta name="description" content="">
  <meta name="author" content="">
  
  <meta name="robots" content="noindex,nofollow">
  

  <!--NEW RELIC Start Perf Measurement-->
  
  <!--NREND-->

  <!-- Le styles -->
  <link href="/static/build/styles.css?v=55ba354138253381d2c0ada9821cd4da" rel="stylesheet">

  <!-- Le HTML5 shim, for IE6-8 support of HTML5 elements -->
  <!--[if lt IE 9]>
    <script src="http://html5shim.googlecode.com/svn/trunk/html5.js"></script>
  <![endif]-->

  <!-- Le fav and touch icons -->
  <link rel="shortcut icon" href="/static/ico/ipynb_icon_16x16.png">
  <link rel="apple-touch-icon-precomposed" sizes="144x144"
        href="/static/ico/apple-touch-icon-144-precomposed.png?v=5a3c9ede93e2a8b8ea9e3f8f3da1a905">
  <link rel="apple-touch-icon-precomposed" sizes="114x114"
        href="/static/ico/apple-touch-icon-114-precomposed.png?v=45d86fc8f24dc00638035e1dd7a6d898">
  <link rel="apple-touch-icon-precomposed" sizes="72x72"
        href="/static/ico/apple-touch-icon-72-precomposed.png?v=540b5eb0f3cfd25f1439d1c9bd30e15f">
  <link rel="apple-touch-icon-precomposed"
        href="/static/ico/apple-touch-icon-57-precomposed.png?v=225f0590e187e1458625654f10a28f56">
  
  

  

  
  <meta name="twitter:card" content="summary">
  <meta name="twitter:title" content="Notebook on nbviewer">
  <meta name="twitter:description" content="Check out this Jupyter notebook!">

  
  <meta name="twitter:domain" content="nbviewer.jupyter.org">
  <meta name="twitter:image:src" content="http://ipython.org/ipython-doc/dev/_images/ipynb_icon_128x128.png">

  
    <link href="/static/build/notebook.css?v=aae8f92f7e80fc468ae446b9d852fe90" rel="stylesheet">
  

  

  
    <script src="https://cdnjs.cloudflare.com/ajax/libs/mathjax/2.7.1/MathJax.js?config=TeX-AMS_HTML" type="text/javascript">
    </script>
    <script type="text/javascript">
      init_mathjax = function() {
        if (window.MathJax) {
          // MathJax loaded
          MathJax.Hub.Config({
            TeX: {
              equationNumbers: {
                autoNumber: "AMS",
                useLabelIds: true
              }
            },
            tex2jax: {
              inlineMath: [ ['$','$'], ["\\(","\\)"] ],
              displayMath: [ ['$$','$$'], ["\\[","\\]"] ],
              processEscapes: true,
              processEnvironments: true
            },
            displayAlign: 'center',
            "HTML-CSS": {
              styles: {'.MathJax_Display': {"margin": 0}},
              linebreaks: { automatic: true }
            }
          });
          MathJax.Hub.Queue(["Typeset", MathJax.Hub]);
        }
      }
      init_mathjax();
    </script>
  

  
    <script>
      (function() {
        function addWidgetsRenderer() {
          var mimeElement = document.querySelector('script[type="application/vnd.jupyter.widget-view+json"]');
          var scriptElement = document.createElement('script');
          var widgetRendererSrc = 'https://unpkg.com/@jupyter-widgets/html-manager@0.15/dist/embed-amd.js';
          var widgetState;

          try {
            widgetState = mimeElement && JSON.parse(mimeElement.innerHTML);

            if (widgetState && (widgetState.version_major < 2 || !widgetState.version_major)) {
              widgetRendererSrc = 'https://unpkg.com/jupyter-js-widgets@2.1/dist/embed.js';
            }
          } catch(e) {}

          scriptElement.src = widgetRendererSrc;
          document.body.appendChild(scriptElement);
        }

        document.addEventListener('DOMContentLoaded', addWidgetsRenderer);
      }());
    </script>
  

</head>

<body class="nbviewer">

  <!-- These are loaded at the top of the body so they are available to
       notebook cells when they are loaded below. -->
  <script src="/static/components/jquery/dist/jquery.min.js?v=220afd743d9e9643852e31a135a9f3ae"></script>
  <script src="/static/components/requirejs/require.js?v=6da8be361b9ee26c5e721e76c6d4afce"></script>
  <script src="/static/components/moment/min/moment.min.js?v=89f87298ad94aa1e6b92f42eb66da043"></script>
<!-- Navbar
================================================== -->
  <nav id="menubar" class="navbar navbar-default navbar-fixed-top" data-spy="affix">
    <div class="container">
      <div class="navbar-header">
        <button type="button" class="navbar-toggle collapsed" data-toggle="collapse" data-target=".navbar-collapse">
          <span class="sr-only">Toggle navigation</span>
          <i class="fa fa-bars"></i>
        </button>
        <a class="navbar-brand" href="/">
          <img src="/static/img/nav_logo.svg?v=479cefe8d932fb14a67b93911b97d70f" width="159"/>
        </a>
      </div>

      <div class="collapse navbar-collapse">
        <ul class="nav navbar-nav navbar-right">
          <li>
            <a class="active" href="https://jupyter.org">JUPYTER</a>
          </li>
          <li>
    <a href="/faq" title="FAQ" >
      
        <span>FAQ</span>
      
    </a>
  </li>

          
  
    
  
    
      
        <li>
    <a href="/format/script/url/atwallab.cshl.edu/teaching/entropy.ipynb" title="View as Code" >
      <span class="fa fa-code fa-2x menu-icon"></span>
      <span class="menu-text">View as Code</span>
    </a>
  </li>
      
    
  

  

  

  

  <li>
    <a href="http://atwallab.cshl.edu/teaching/entropy.ipynb" title="Download Notebook" download>
      <span class="fa fa-download fa-2x menu-icon"></span>
      <span class="menu-text">Download Notebook</span>
    </a>
  </li>

        </ul>
      </div><!-- /.navbar-collapse -->
      
      
    </div>
  </nav>

  <div class="container container-main">
    
  
  <div id="notebook">
    <div id="notebook-container">
      <div class="cell border-box-sizing text_cell rendered"><div class="prompt input_prompt">
</div><div class="inner_cell">
<div class="text_cell_render border-box-sizing rendered_html">
<h1 id="Entropy,-Mutual-Information-and-Sampling">Entropy, Mutual Information and Sampling<a class="anchor-link" href="#Entropy,-Mutual-Information-and-Sampling">&#182;</a></h1>
</div>
</div>
</div>
<div class="cell border-box-sizing code_cell rendered">
<div class="input">
<div class="prompt input_prompt">In&nbsp;[1]:</div>
<div class="inner_cell">
    <div class="input_area">
<div class=" highlight hl-ipython3"><pre><span></span><span class="kn">import</span> <span class="nn">numpy</span> <span class="k">as</span> <span class="nn">np</span> 
<span class="kn">import</span> <span class="nn">scipy</span> <span class="k">as</span> <span class="nn">sp</span>
<span class="kn">import</span> <span class="nn">matplotlib.pyplot</span> <span class="k">as</span> <span class="nn">plt</span>
<span class="kn">from</span> <span class="nn">__future__</span> <span class="k">import</span> <span class="n">division</span>
</pre></div>

    </div>
</div>
</div>

</div>
<div class="cell border-box-sizing text_cell rendered"><div class="prompt input_prompt">
</div><div class="inner_cell">
<div class="text_cell_render border-box-sizing rendered_html">
<h2 id="Entropy">Entropy<a class="anchor-link" href="#Entropy">&#182;</a></h2>$$
H[X]=-\sum_x p(x) \log_2 p(x)
$$
</div>
</div>
</div>
<div class="cell border-box-sizing code_cell rendered">
<div class="input">
<div class="prompt input_prompt">In&nbsp;[2]:</div>
<div class="inner_cell">
    <div class="input_area">
<div class=" highlight hl-ipython3"><pre><span></span><span class="k">def</span> <span class="nf">entropy</span><span class="p">(</span><span class="n">p</span><span class="p">):</span> <span class="c1"># entropy of probability distribution array p </span>
    <span class="n">p</span><span class="o">=</span><span class="n">p</span><span class="p">[</span><span class="n">p</span><span class="o">!=</span><span class="mi">0</span><span class="p">]</span>
    <span class="n">result</span><span class="o">=</span><span class="n">np</span><span class="o">.</span><span class="n">sum</span><span class="p">(</span><span class="n">p</span><span class="o">*</span><span class="n">np</span><span class="o">.</span><span class="n">log2</span><span class="p">(</span><span class="mi">1</span><span class="o">/</span><span class="n">p</span><span class="p">))</span>    
    <span class="k">return</span> <span class="n">result</span>
</pre></div>

    </div>
</div>
</div>

</div>
<div class="cell border-box-sizing text_cell rendered"><div class="prompt input_prompt">
</div><div class="inner_cell">
<div class="text_cell_render border-box-sizing rendered_html">
<h4 id="Entropy-of-a-distribution-with-two-states">Entropy of a distribution with two states<a class="anchor-link" href="#Entropy-of-a-distribution-with-two-states">&#182;</a></h4>
</div>
</div>
</div>
<div class="cell border-box-sizing code_cell rendered">
<div class="input">
<div class="prompt input_prompt">In&nbsp;[3]:</div>
<div class="inner_cell">
    <div class="input_area">
<div class=" highlight hl-ipython3"><pre><span></span><span class="n">a</span><span class="o">=</span><span class="n">linspace</span><span class="p">(</span><span class="mi">0</span><span class="p">,</span><span class="mi">1</span><span class="p">,</span><span class="mi">101</span><span class="p">)</span>
<span class="n">e</span><span class="o">=</span><span class="n">np</span><span class="o">.</span><span class="n">array</span><span class="p">([</span><span class="n">entropy</span><span class="p">(</span><span class="n">np</span><span class="o">.</span><span class="n">array</span><span class="p">([</span><span class="n">t</span><span class="p">,</span><span class="mi">1</span><span class="o">-</span><span class="n">t</span><span class="p">]))</span> <span class="k">for</span> <span class="n">t</span> <span class="ow">in</span> <span class="n">a</span><span class="p">])</span>

<span class="n">c</span><span class="o">=</span><span class="mf">0.9</span>

<span class="n">plt</span><span class="o">.</span><span class="n">figure</span><span class="p">(</span><span class="n">figsize</span><span class="o">=</span><span class="p">(</span><span class="mi">12</span><span class="p">,</span><span class="mi">5</span><span class="p">))</span>

<span class="n">plt</span><span class="o">.</span><span class="n">subplot</span><span class="p">(</span><span class="mi">1</span><span class="p">,</span><span class="mi">2</span><span class="p">,</span><span class="mi">1</span><span class="p">)</span>
<span class="n">plt</span><span class="o">.</span><span class="n">bar</span><span class="p">([</span><span class="mi">0</span><span class="p">,</span><span class="mi">1</span><span class="p">],[</span><span class="n">c</span><span class="p">,</span><span class="mi">1</span><span class="o">-</span><span class="n">c</span><span class="p">])</span>
<span class="n">plt</span><span class="o">.</span><span class="n">xticks</span><span class="p">([</span><span class="mf">0.5</span><span class="p">,</span><span class="mf">1.5</span><span class="p">],[</span><span class="s1">&#39;$x_1$&#39;</span><span class="p">,</span><span class="s1">&#39;$x_2$&#39;</span><span class="p">],</span><span class="n">fontsize</span><span class="o">=</span><span class="mi">15</span><span class="p">)</span>
<span class="n">plt</span><span class="o">.</span><span class="n">ylabel</span><span class="p">(</span><span class="s1">&#39;$p(x)$&#39;</span><span class="p">,</span><span class="n">fontsize</span><span class="o">=</span><span class="mi">15</span><span class="p">)</span>
<span class="n">plt</span><span class="o">.</span><span class="n">title</span><span class="p">(</span><span class="s1">&#39;probability distribution </span><span class="se">\n</span><span class="s1"> $p(x_1)=$ </span><span class="si">%.2f</span><span class="s1">,  $p(x_2)=$ </span><span class="si">%.2f</span><span class="s1">&#39;</span> <span class="o">%</span> <span class="p">(</span><span class="n">c</span><span class="p">,</span><span class="mi">1</span><span class="o">-</span><span class="n">c</span><span class="p">))</span>
<span class="n">plt</span><span class="o">.</span><span class="n">ylim</span><span class="p">(</span><span class="mi">0</span><span class="p">,</span><span class="mi">1</span><span class="p">)</span>

<span class="n">plt</span><span class="o">.</span><span class="n">subplot</span><span class="p">(</span><span class="mi">1</span><span class="p">,</span><span class="mi">2</span><span class="p">,</span><span class="mi">2</span><span class="p">)</span>
<span class="n">plt</span><span class="o">.</span><span class="n">plot</span><span class="p">(</span><span class="n">a</span><span class="p">,</span><span class="n">e</span><span class="p">)</span>
<span class="n">plt</span><span class="o">.</span><span class="n">plot</span><span class="p">(</span><span class="n">c</span><span class="p">,</span><span class="n">entropy</span><span class="p">(</span><span class="n">np</span><span class="o">.</span><span class="n">array</span><span class="p">([</span><span class="n">c</span><span class="p">,</span><span class="mi">1</span><span class="o">-</span><span class="n">c</span><span class="p">])),</span><span class="s1">&#39;ro&#39;</span><span class="p">,</span><span class="n">label</span><span class="o">=</span><span class="s1">&#39;a=</span><span class="si">%.2f</span><span class="s1">&#39;</span><span class="o">%</span><span class="k">c</span>)
<span class="n">plt</span><span class="o">.</span><span class="n">title</span><span class="p">(</span><span class="s1">&#39;Binary Entropy Function </span><span class="se">\n</span><span class="s1"> $p(x_1)=a$,  $p(x_2)=1-a$,  $H_2(a)=-a \log_2 a-(1-a) \log_2 (1-a) $&#39;</span><span class="p">)</span>
<span class="n">plt</span><span class="o">.</span><span class="n">xlabel</span><span class="p">(</span><span class="s1">&#39;a&#39;</span><span class="p">)</span>
<span class="n">plt</span><span class="o">.</span><span class="n">ylabel</span><span class="p">(</span><span class="s1">&#39;$H_2(a)$&#39;</span><span class="p">)</span>
<span class="n">plt</span><span class="o">.</span><span class="n">ylim</span><span class="p">(</span><span class="mi">0</span><span class="p">,</span><span class="mf">1.05</span><span class="p">)</span>
<span class="n">plt</span><span class="o">.</span><span class="n">legend</span><span class="p">()</span>

<span class="n">plt</span><span class="o">.</span><span class="n">show</span><span class="p">()</span>
</pre></div>

    </div>
</div>
</div>

<div class="output_wrapper">
<div class="output">


<div class="output_area">

    <div class="prompt"></div>




<div class="output_png output_subarea ">
<img src="data:image/png;base64,iVBORw0KGgoAAAANSUhEUgAAAt4AAAFjCAYAAAAKKAxpAAAABHNCSVQICAgIfAhkiAAAAAlwSFlz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"
>
</div>

</div>

</div>
</div>

</div>
<div class="cell border-box-sizing text_cell rendered"><div class="prompt input_prompt">
</div><div class="inner_cell">
<div class="text_cell_render border-box-sizing rendered_html">
<h2 id="Mutual-Information">Mutual Information<a class="anchor-link" href="#Mutual-Information">&#182;</a></h2>$$
\begin{array}
II[X;Y]&amp;=&amp;\sum_{x,y} p(x,y) \log_2 \frac{p(x,y)}{p(x)p(y)} \\
&amp;=&amp;H[X]+H[Y]-H[X,Y] \\
&amp;=&amp;H[X]-H[X|Y] \\
&amp;=&amp;H[Y]-H[Y|X]
\end{array}
$$
</div>
</div>
</div>
<div class="cell border-box-sizing code_cell rendered">
<div class="input">
<div class="prompt input_prompt">In&nbsp;[4]:</div>
<div class="inner_cell">
    <div class="input_area">
<div class=" highlight hl-ipython3"><pre><span></span><span class="k">def</span> <span class="nf">I</span><span class="p">(</span><span class="n">p</span><span class="p">):</span> <span class="c1"># mutual information of joint probability distribution array p </span>
    <span class="n">px</span><span class="o">=</span><span class="n">np</span><span class="o">.</span><span class="n">sum</span><span class="p">(</span><span class="n">p</span><span class="p">,</span><span class="mi">0</span><span class="p">)</span>
    <span class="n">py</span><span class="o">=</span><span class="n">np</span><span class="o">.</span><span class="n">sum</span><span class="p">(</span><span class="n">p</span><span class="p">,</span><span class="mi">1</span><span class="p">)</span>
    <span class="n">Hx</span><span class="o">=</span><span class="n">entropy</span><span class="p">(</span><span class="n">px</span><span class="p">)</span>
    <span class="n">Hy</span><span class="o">=</span><span class="n">entropy</span><span class="p">(</span><span class="n">py</span><span class="p">)</span>
    <span class="n">p</span><span class="o">=</span><span class="n">p</span><span class="p">[</span><span class="n">p</span><span class="o">&gt;</span><span class="mi">0</span><span class="p">]</span>
    <span class="n">Hxy</span><span class="o">=</span><span class="n">np</span><span class="o">.</span><span class="n">sum</span><span class="p">(</span><span class="n">p</span><span class="o">*</span><span class="n">log2</span><span class="p">(</span><span class="mi">1</span><span class="o">/</span><span class="n">p</span><span class="p">))</span>
    <span class="k">return</span> <span class="n">Hx</span><span class="o">+</span><span class="n">Hy</span><span class="o">-</span><span class="n">Hxy</span>
</pre></div>

    </div>
</div>
</div>

</div>
<div class="cell border-box-sizing code_cell rendered">
<div class="input">
<div class="prompt input_prompt">In&nbsp;[5]:</div>
<div class="inner_cell">
    <div class="input_area">
<div class=" highlight hl-ipython3"><pre><span></span><span class="n">pxy</span><span class="o">=</span><span class="k">lambda</span> <span class="n">a</span><span class="p">:</span> <span class="n">np</span><span class="o">.</span><span class="n">array</span><span class="p">([[</span><span class="n">a</span><span class="o">/</span><span class="mi">2</span><span class="p">,(</span><span class="mi">1</span><span class="o">-</span><span class="n">a</span><span class="p">)</span><span class="o">/</span><span class="mi">2</span><span class="p">],[(</span><span class="mi">1</span><span class="o">-</span><span class="n">a</span><span class="p">)</span><span class="o">/</span><span class="mi">2</span><span class="p">,</span><span class="n">a</span><span class="o">/</span><span class="mi">2</span><span class="p">]])</span>
</pre></div>

    </div>
</div>
</div>

</div>
<div class="cell border-box-sizing code_cell rendered">
<div class="input">
<div class="prompt input_prompt">In&nbsp;[6]:</div>
<div class="inner_cell">
    <div class="input_area">
<div class=" highlight hl-ipython3"><pre><span></span><span class="n">pxy</span><span class="p">(</span><span class="mf">0.2</span><span class="p">),</span> <span class="n">I</span><span class="p">(</span><span class="n">pxy</span><span class="p">(</span><span class="mf">0.2</span><span class="p">))</span>
</pre></div>

    </div>
</div>
</div>

<div class="output_wrapper">
<div class="output">


<div class="output_area">

    <div class="prompt output_prompt">Out[6]:</div>




<div class="output_text output_subarea output_execute_result">
<pre>(array([[ 0.1,  0.4],
       [ 0.4,  0.1]]), 0.27807190511263746)</pre>
</div>

</div>

</div>
</div>

</div>
<div class="cell border-box-sizing text_cell rendered"><div class="prompt input_prompt">
</div><div class="inner_cell">
<div class="text_cell_render border-box-sizing rendered_html">
<h4 id="Mutual-information-calculated-from-finite-samples">Mutual information calculated from finite samples<a class="anchor-link" href="#Mutual-information-calculated-from-finite-samples">&#182;</a></h4><p>Let's sample from a joint two-dimensional distribution with no dependencies, e.g. [0.25,0.25],[0.25,0.25].
Because of finite sampling the empirical mutual information from these samples will not be zero. In fact there will be a small positive bias.</p>

</div>
</div>
</div>
<div class="cell border-box-sizing code_cell rendered">
<div class="input">
<div class="prompt input_prompt">In&nbsp;[7]:</div>
<div class="inner_cell">
    <div class="input_area">
<div class=" highlight hl-ipython3"><pre><span></span><span class="n">joint_dist</span><span class="o">=</span><span class="n">pxy</span><span class="p">(</span><span class="mf">0.5</span><span class="p">)</span> <span class="c1"># joint distribution</span>
<span class="n">true_I</span><span class="o">=</span><span class="n">I</span><span class="p">(</span><span class="n">joint_dist</span><span class="p">)</span>
<span class="nb">print</span> <span class="n">joint_dist</span>
<span class="nb">print</span><span class="p">(</span><span class="s1">&#39;the mutual information of above distribution is </span><span class="si">%.3f</span><span class="s1"> bits&#39;</span> <span class="o">%</span> <span class="p">(</span><span class="n">true_I</span><span class="p">))</span>

<span class="n">N</span><span class="o">=</span><span class="mi">1000</span> <span class="c1"># number of samples to take from joint distribution</span>
<span class="n">t</span><span class="o">=</span><span class="mi">20000</span> <span class="c1"># number of trials</span>

<span class="n">rI</span><span class="o">=</span><span class="n">np</span><span class="o">.</span><span class="n">array</span><span class="p">([</span><span class="n">I</span><span class="p">((</span><span class="n">np</span><span class="o">.</span><span class="n">random</span><span class="o">.</span><span class="n">multinomial</span><span class="p">(</span><span class="n">N</span><span class="p">,</span><span class="n">joint_dist</span><span class="o">.</span><span class="n">flat</span><span class="p">)</span><span class="o">/</span><span class="p">(</span><span class="n">N</span><span class="p">))</span><span class="o">.</span><span class="n">reshape</span><span class="p">(</span><span class="mi">2</span><span class="p">,</span><span class="mi">2</span><span class="p">))</span> <span class="k">for</span> <span class="n">i</span> <span class="ow">in</span> <span class="n">xrange</span><span class="p">(</span><span class="n">t</span><span class="p">)])</span>
<span class="n">nbins</span><span class="o">=</span><span class="mi">100</span>
<span class="n">maxhist</span><span class="o">=</span><span class="n">np</span><span class="o">.</span><span class="n">max</span><span class="p">(</span><span class="n">np</span><span class="o">.</span><span class="n">histogram</span><span class="p">(</span><span class="n">rI</span><span class="p">,</span><span class="n">bins</span><span class="o">=</span><span class="n">nbins</span><span class="p">)[</span><span class="mi">0</span><span class="p">])</span>
<span class="n">plt</span><span class="o">.</span><span class="n">hist</span><span class="p">(</span><span class="n">rI</span><span class="p">,</span><span class="n">bins</span><span class="o">=</span><span class="n">nbins</span><span class="p">)</span>
<span class="n">plt</span><span class="o">.</span><span class="n">plot</span><span class="p">([</span><span class="n">true_I</span><span class="p">,</span><span class="n">true_I</span><span class="p">],[</span><span class="mi">0</span><span class="p">,</span><span class="n">maxhist</span><span class="o">*</span><span class="mf">1.1</span><span class="p">],</span><span class="s1">&#39;r-&#39;</span><span class="p">,</span><span class="n">label</span><span class="o">=</span><span class="s1">&#39;true mutual information&#39;</span><span class="p">)</span>
<span class="n">plt</span><span class="o">.</span><span class="n">xlabel</span><span class="p">(</span><span class="s1">&#39;empirical mutual information&#39;</span><span class="p">)</span>
<span class="n">plt</span><span class="o">.</span><span class="n">ylabel</span><span class="p">(</span><span class="s1">&#39;frequency&#39;</span><span class="p">)</span>
<span class="n">plt</span><span class="o">.</span><span class="n">legend</span><span class="p">(</span><span class="n">loc</span><span class="o">=</span><span class="s1">&#39;center left&#39;</span><span class="p">,</span> <span class="n">bbox_to_anchor</span><span class="o">=</span><span class="p">(</span><span class="mi">1</span><span class="p">,</span><span class="mf">0.5</span><span class="p">))</span>
<span class="n">plt</span><span class="o">.</span><span class="n">show</span><span class="p">()</span>
</pre></div>

    </div>
</div>
</div>

<div class="output_wrapper">
<div class="output">


<div class="output_area">

    <div class="prompt"></div>


<div class="output_subarea output_stream output_stdout output_text">
<pre>[[ 0.25  0.25]
 [ 0.25  0.25]]
the mutual information of above distribution is 0.000 bits
</pre>
</div>
</div>

<div class="output_area">

    <div class="prompt"></div>




<div class="output_png output_subarea ">
<img src="data:image/png;base64,iVBORw0KGgoAAAANSUhEUgAAAkkAAAEPCAYAAABWaVDYAAAABHNCSVQICAgIfAhkiAAAAAlwSFlz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"
>
</div>

</div>

</div>
</div>

</div>
<div class="cell border-box-sizing text_cell rendered"><div class="prompt input_prompt">
</div><div class="inner_cell">
<div class="text_cell_render border-box-sizing rendered_html">
<p>Mean empirical bias</p>

</div>
</div>
</div>
<div class="cell border-box-sizing code_cell rendered">
<div class="input">
<div class="prompt input_prompt">In&nbsp;[8]:</div>
<div class="inner_cell">
    <div class="input_area">
<div class=" highlight hl-ipython3"><pre><span></span><span class="nb">print</span><span class="p">(</span><span class="s1">&#39;the true mutual information is </span><span class="si">%f</span><span class="s1"> and the mean empirical bias is </span><span class="si">%f</span><span class="s1">&#39;</span> <span class="o">%</span> <span class="p">(</span><span class="n">true_I</span><span class="p">,</span><span class="n">np</span><span class="o">.</span><span class="n">mean</span><span class="p">(</span><span class="n">rI</span><span class="o">-</span><span class="n">true_I</span><span class="p">)))</span>
</pre></div>

    </div>
</div>
</div>

<div class="output_wrapper">
<div class="output">


<div class="output_area">

    <div class="prompt"></div>


<div class="output_subarea output_stream output_stdout output_text">
<pre>the true mutual information is 0.000000 and the mean empirical bias is 0.000733
</pre>
</div>
</div>

</div>
</div>

</div>
<div class="cell border-box-sizing text_cell rendered"><div class="prompt input_prompt">
</div><div class="inner_cell">
<div class="text_cell_render border-box-sizing rendered_html">
<p>The predicted theoretical mutual information bias =
$\frac{(|X|-1)(|Y|-1)}{2 N \ln 2} + O \left( \frac{1}{N^2} \right)$</p>

</div>
</div>
</div>
<div class="cell border-box-sizing code_cell rendered">
<div class="input">
<div class="prompt input_prompt">In&nbsp;[9]:</div>
<div class="inner_cell">
    <div class="input_area">
<div class=" highlight hl-ipython3"><pre><span></span><span class="mi">1</span><span class="o">/</span><span class="p">(</span><span class="mi">2</span><span class="o">*</span><span class="n">N</span><span class="o">*</span><span class="n">log</span><span class="p">(</span><span class="mi">2</span><span class="p">))</span>
</pre></div>

    </div>
</div>
</div>

<div class="output_wrapper">
<div class="output">


<div class="output_area">

    <div class="prompt output_prompt">Out[9]:</div>




<div class="output_text output_subarea output_execute_result">
<pre>0.00072134752044448179</pre>
</div>

</div>

</div>
</div>

</div>
 


    </div>
  </div>

  </div>


  
    <footer class="footer hidden-print">
      <div class="container">
        <div class="col-md-4">
          <p>
            This website does not host notebooks, it only renders notebooks
            available on other websites.
          </p>
        </div>

        <div class="col-md-4">
          <p>
            Delivered by <a href="https://www.fastly.com/">Fastly</a>,
            Rendered by <a href="https://developer.rackspace.com/?nbviewer=awesome">Rackspace</a>
          </p>
          <p>
            nbviewer GitHub <a href="https://github.com/jupyter/nbviewer">repository</a>.
          </p>
        </div>

        <div class="col-md-4">
          
  
            
              <p>
                nbviewer version:
                <a href="https://github.com/jupyter/nbviewer/commit/07b0e305b3254e2280b29f20ceb96c058db2f775">
                  07b0e30
                </a>
              </p>
            
          
  
  <p>
    nbconvert version: <a href="https://github.com/jupyter/nbconvert/releases/tag/5.6.0">
      5.6.0
    </a>
  </p>
  

          
  
  
  <p>
    Rendered
    <span class='date' data-date='Thu, 10 Oct 2019 15:05:39 UTC' title='Thu, 10 Oct 2019 15:05:39 UTC'>(Thu, 10 Oct 2019 15:05:39 UTC)</span>
  </p>
  

        </div>
      </div>
    </footer>
  

  <script src="/static/components/bootstrap/js/bootstrap.min.js?v=5869c96cc8f19086aee625d670d741f9"></script>
  <script src="/static/components/headroom.js/dist/headroom.min.js?v=b0a311ea668f8e768ea375f4a7abb81c"></script>
  <script src="/static/components/headroom.js/dist/jQuery.headroom.min.js?v=f3a1bae118315d0c234afc74dc6aab71"></script>

  
  
  <script>
    $(function(){ $("#menubar").headroom({
      tolerance: 5,
      offset: 205,
      classes: {
        initial: "animated",
        pinned: "slideInDown",
        unpinned: "slideOutUp"
      }
    })});
  </script>


  
  <script>
    (function(i,s,o,g,r,a,m){i['GoogleAnalyticsObject']=r;i[r]=i[r]||function(){
      (i[r].q=i[r].q||[]).push(arguments)},i[r].l=1*new Date();a=s.createElement(o),
      m=s.getElementsByTagName(o)[0];a.async=1;a.src=g;m.parentNode.insertBefore(a,m)
    })(window,document,'script','https://www.google-analytics.com/analytics.js','ga');
    ga('create', 'UA-52617120-5', 'auto',
       {'storage': 'none'});
    ga('set', 'anonymizeIp', true);
    ga('send', 'pageview');
  </script>
  
  <script>
    require({
        paths: {
          moment: "/static/components/moment/min/moment.min.js?v=89f87298ad94aa1e6b92f42eb66da043"
        }
      }, ["moment"], function(moment){
      var date = $("footer .date"),
        m = moment(new Date(date.data('date'))),
        update = function(){ date.text(m.fromNow()); };
      setInterval(update, 61*1000);
      update();
      var w = $(window).scroll(function(event){
        $("body").toggleClass("scrolled", w.scrollTop() > 0);
      });
    });
  </script>

  <!--NEW RELIC Stop Perf Measurement-->
  
  <!--NEW RELIC End-->
</body>
</html>